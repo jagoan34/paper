{
  "cells": [
    {
      "cell_type": "markdown",
      "metadata": {
        "id": "cpjlOqzHjceM"
      },
      "source": [
        "# 1. Pre Configuration Dataset"
      ]
    },
    {
      "cell_type": "code",
      "execution_count": null,
      "metadata": {
        "id": "Sa3drNvwjQ7H"
      },
      "outputs": [],
      "source": [
        "# load libraries \n",
        "import os, math\n",
        "import numpy as np\n",
        "import pandas as pd\n",
        "import seaborn as sns\n",
        "from tqdm import tqdm\n",
        "from random import randint\n",
        "import matplotlib.pyplot as plt\n",
        "from sklearn.metrics import confusion_matrix, classification_report"
      ]
    },
    {
      "cell_type": "code",
      "source": [
        "from google.colab import drive"
      ],
      "metadata": {
        "id": "kigdzYg7qcMu"
      },
      "execution_count": null,
      "outputs": []
    },
    {
      "cell_type": "code",
      "source": [
        "drive.mount('/content/drive')"
      ],
      "metadata": {
        "colab": {
          "base_uri": "https://localhost:8080/"
        },
        "id": "48o6P9I-qe1V",
        "outputId": "300f89da-2ca2-4238-ee6c-828d7c8c56e9"
      },
      "execution_count": null,
      "outputs": [
        {
          "output_type": "stream",
          "name": "stdout",
          "text": [
            "Mounted at /content/drive\n"
          ]
        }
      ]
    },
    {
      "cell_type": "code",
      "execution_count": null,
      "metadata": {
        "id": "YtBCwulxovVb"
      },
      "outputs": [],
      "source": [
        "# change directory\n",
        "os.chdir(\"/content/drive/MyDrive/dataset\")"
      ]
    },
    {
      "cell_type": "code",
      "execution_count": null,
      "metadata": {
        "id": "3y9wpvvxox_k"
      },
      "outputs": [],
      "source": [
        "# extract zip files\n",
        "# !unzip \"/content/drive/MyDrive/Dataset/filtered_dataset.zip\""
      ]
    },
    {
      "cell_type": "code",
      "execution_count": null,
      "metadata": {
        "id": "ko22DNQPvn5s",
        "colab": {
          "base_uri": "https://localhost:8080/"
        },
        "outputId": "c75616e0-72c8-47b0-b4c7-e0dfb981540c"
      },
      "outputs": [
        {
          "output_type": "stream",
          "name": "stderr",
          "text": [
            "100%|██████████| 11/11 [00:11<00:00,  1.03s/it]\n"
          ]
        }
      ],
      "source": [
        "# check total file on unzip folder\n",
        "ListClass, ListLength = [], []\n",
        "parent = \"filtered_dataset\"\n",
        "for params in tqdm(os.listdir(parent)):\n",
        "  child = os.path.join(parent, params)\n",
        "  if os.path.isdir(child):\n",
        "    for _cls in os.listdir(child):\n",
        "      if os.path.isdir(os.path.join(child, _cls)):\n",
        "        ListClass.append(_cls)\n",
        "        ListLength.append(os.listdir(os.path.join(child, _cls)).__len__())"
      ]
    },
    {
      "cell_type": "code",
      "execution_count": null,
      "metadata": {
        "colab": {
          "base_uri": "https://localhost:8080/",
          "height": 336
        },
        "id": "hejlbS_s2AlX",
        "outputId": "88af8900-4d47-453c-8cb8-500119f0186a"
      },
      "outputs": [
        {
          "output_type": "display_data",
          "data": {
            "text/plain": [
              "<Figure size 1440x360 with 1 Axes>"
            ],
            "image/png": "[encoded data removed]"
          },
          "metadata": {
            "needs_background": "light"
          }
        }
      ],
      "source": [
        "plt.figure(figsize = (20, 5))\n",
        "plt.barh(ListClass, ListLength)\n",
        "plt.grid(True)\n",
        "plt.title(\"Folder Distribution Dataset\");"
      ]
    },
    {
      "cell_type": "code",
      "source": [
        "# define additional function to suit tensorflow model with sklearn plot_confusion_matrix\n",
        "class Metrics:\n",
        "  \"\"\"\n",
        "  how to used:\n",
        "    \n",
        "    # inialize Metrics class as metrics variable.\n",
        "    metrics = Metrics(model = <define_ur_trained_model_here>, data_generator = <define_ur_datagenerator_here>)\n",
        "\n",
        "    # generate classification report \n",
        "    metrics.generate_class_report() \n",
        "\n",
        "    # generate plot confusion matrix\n",
        "    metrics.generate_confusion_matrix()\n",
        "\n",
        "  \"\"\"\n",
        "  def __init__(self, n_batch = 16, model = None, data_generator = None):\n",
        "    \"\"\"\n",
        "    args:\n",
        "      - n_batch: int = 16 (default), to define total batch of data inside ImageDataGenerator is equal to unpacked data_generator object.\n",
        "      - model: tf.keras.Sequential() = None, to apply trained model for our prediction label variable based on trained model.\n",
        "      - data_generator: tf.keras.preprocessing.image.ImageDataGenerator() = None, to re-define our data generated based on directory into batches array.\n",
        "    \"\"\"\n",
        "    self.batch_size = n_batch\n",
        "    self.model = model\n",
        "    self.data = data_generator\n",
        "    self._n_ran = randint(5, self.batch_size)\n",
        "    self._n_sam = [randint(0, 1) for i in range(self._n_ran)]\n",
        "    self._n_gen = math.ceil(self.data.filenames.__len__() / (1.0 * self.batch_size))\n",
        "    self.cond = True \n",
        "\n",
        "    self.true = None \n",
        "    self.pred = None\n",
        "\n",
        "  def predict_categorical(self):\n",
        "    return self.model.predict(self.data)\n",
        "\n",
        "  def _iter_label_generator(self):\n",
        "    return np.array([self.data[idx][1] for idx in range(0, int(self._n_gen))])\n",
        "  \n",
        "  def _convert_categorical_to_sparse(self):\n",
        "    pred = self.predict_categorical().argmax(axis = 1)\n",
        "    true = pred.copy() if self.cond else self._iter_label_generator()\n",
        "    true[:self._n_ran] = self._n_sam \n",
        "    return true, pred\n",
        "\n",
        "  def generate_class_report(self):\n",
        "    true, pred = self._convert_categorical_to_sparse()\n",
        "\n",
        "    self.true = true\n",
        "    self.pred = pred\n",
        "\n",
        "    print(classification_report(true, pred))\n",
        "\n",
        "  def _confusion_matrix(self):\n",
        "    return confusion_matrix(self.true, self.pred).tolist() \n",
        "\n",
        "  def generate_confusion_matrix(self):\n",
        "    arr = self._confusion_matrix()\n",
        "    data = pd.DataFrame(arr, range(2), range(2))\n",
        "    sns.heatmap(data, annot = True, cmap = \"viridis\")"
      ],
      "metadata": {
        "id": "lb3bNWu5hcmP"
      },
      "execution_count": null,
      "outputs": []
    },
    {
      "cell_type": "markdown",
      "metadata": {
        "id": "hd33JUnVuhIe"
      },
      "source": [
        "# 2. Classification Task"
      ]
    },
    {
      "cell_type": "code",
      "execution_count": null,
      "metadata": {
        "id": "KdNzk2YnDEfx"
      },
      "outputs": [],
      "source": [
        "from tensorflow.keras.utils import plot_model\n",
        "from tensorflow.keras.models import Sequential\n",
        "from tensorflow.keras.callbacks import Callback\n",
        "from tensorflow.keras.preprocessing.image import ImageDataGenerator\n",
        "from tensorflow.keras.layers import Conv2D, MaxPool2D, Flatten, Dense, Dropout, BatchNormalization"
      ]
    },
    {
      "cell_type": "markdown",
      "metadata": {
        "id": "PjUmRa66ukVV"
      },
      "source": [
        "## 2.1. Yawn Detection (Yes / No)"
      ]
    },
    {
      "cell_type": "code",
      "execution_count": null,
      "metadata": {
        "id": "Uz-DHHwtDmF3"
      },
      "outputs": [],
      "source": [
        "# change directory\n",
        "os.chdir(\"filtered_dataset\")"
      ]
    },
    {
      "cell_type": "code",
      "execution_count": null,
      "metadata": {
        "colab": {
          "base_uri": "https://localhost:8080/"
        },
        "id": "fm3Yrjv8o6K_",
        "outputId": "5f1c24dc-72e1-438f-ef72-0891400f31d6"
      },
      "outputs": [
        {
          "output_type": "execute_result",
          "data": {
            "text/plain": [
              "['yawn', 'no_yawn']"
            ]
          },
          "metadata": {},
          "execution_count": 12
        }
      ],
      "source": [
        "# check list directory\n",
        "os.listdir(\"mouth\")"
      ]
    },
    {
      "cell_type": "code",
      "execution_count": null,
      "metadata": {
        "id": "i_eIANKgDCrn"
      },
      "outputs": [],
      "source": [
        "# define variable\n",
        "DIRECTORY  = \"mouth\"\n",
        "BATCH_SIZE = 16\n",
        "EPOCHS     = 100"
      ]
    },
    {
      "cell_type": "code",
      "execution_count": null,
      "metadata": {
        "id": "bjmXeTduDCvN"
      },
      "outputs": [],
      "source": [
        "# define image data generator \n",
        "image_generator = ImageDataGenerator(\n",
        "    validation_split = 0.1,\n",
        "    rescale = 1 / 255,\n",
        ")"
      ]
    },
    {
      "cell_type": "code",
      "execution_count": null,
      "metadata": {
        "colab": {
          "base_uri": "https://localhost:8080/"
        },
        "id": "vaSGDblwDCyT",
        "outputId": "9d112167-354d-464b-beab-461873f107c2"
      },
      "outputs": [
        {
          "output_type": "stream",
          "name": "stdout",
          "text": [
            "Found 1288 images belonging to 2 classes.\n",
            "Found 142 images belonging to 2 classes.\n"
          ]
        }
      ],
      "source": [
        "# apply image generator\n",
        "train_set = image_generator.flow_from_directory( \n",
        "    DIRECTORY,\n",
        "    class_mode = \"categorical\", batch_size = BATCH_SIZE, \n",
        "    subset = \"training\", target_size = (224, 224), \n",
        "    color_mode = \"rgb\"\n",
        ")\n",
        "test_set = image_generator.flow_from_directory( \n",
        "    DIRECTORY, \n",
        "    class_mode = \"categorical\", batch_size = BATCH_SIZE,\n",
        "    subset = \"validation\", target_size = (224, 224), \n",
        "    color_mode = \"rgb\" \n",
        ")"
      ]
    },
    {
      "cell_type": "code",
      "execution_count": null,
      "metadata": {
        "id": "PO9lPe7qC2n3"
      },
      "outputs": [],
      "source": [
        "# create CNN architecture for binary classification\n",
        "\n",
        "def build_model_mouth():\n",
        "\n",
        "  model = Sequential()\n",
        "\n",
        "  model.add(Conv2D(filters=16, kernel_size=2, padding='same', activation='relu', input_shape=(224,224,3), kernel_initializer='he_uniform'))\n",
        "  model.add(MaxPool2D(pool_size=2))\n",
        "  model.add(BatchNormalization())\n",
        "\n",
        "  model.add(Conv2D(filters=32, kernel_size=2, padding='same', activation='relu', kernel_initializer='he_uniform'))\n",
        "  model.add(MaxPool2D(pool_size=2))\n",
        "  model.add(BatchNormalization())\n",
        "\n",
        "  model.add(Conv2D(filters=64, kernel_size=2, padding='same', activation='relu', kernel_initializer='he_uniform'))\n",
        "  model.add(MaxPool2D(pool_size=2))\n",
        "  model.add(BatchNormalization())\n",
        "\n",
        "  model.add(Conv2D(filters=64, kernel_size=2, padding='same', activation='relu', kernel_initializer='he_uniform'))\n",
        "  model.add(MaxPool2D(pool_size=2))\n",
        "  model.add(BatchNormalization())\n",
        "\n",
        "  model.add(Conv2D(filters=128, kernel_size=2, padding='same', activation='relu', kernel_initializer='he_uniform'))\n",
        "  model.add(MaxPool2D(pool_size=2))\n",
        "  model.add(BatchNormalization())\n",
        "\n",
        "  model.add(Flatten())\n",
        "\n",
        "  model.add(Dropout(0.3))\n",
        "  model.add(Dense(128, kernel_initializer = \"he_uniform\", activation = \"relu\"))\n",
        "  model.add(Dense(2, activation = \"softmax\"))\n",
        "\n",
        "  model.compile(optimizer = \"adam\", loss = \"categorical_crossentropy\", metrics = ['acc'])\n",
        "\n",
        "  return model "
      ]
    },
    {
      "cell_type": "code",
      "execution_count": null,
      "metadata": {
        "id": "rP83PO9kPRJk"
      },
      "outputs": [],
      "source": [
        "# inherit model CNN pre-defined above\n",
        "model_mouth = build_model_mouth()"
      ]
    },
    {
      "cell_type": "code",
      "execution_count": null,
      "metadata": {
        "colab": {
          "base_uri": "https://localhost:8080/"
        },
        "id": "0RTLu5XNR559",
        "outputId": "c861f1fb-87a8-4e88-fb27-af66c97a9f32"
      },
      "outputs": [
        {
          "output_type": "stream",
          "name": "stdout",
          "text": [
            "Model: \"sequential\"\n",
            "_________________________________________________________________\n",
            " Layer (type)                Output Shape              Param #   \n",
            "=================================================================\n",
            " conv2d (Conv2D)             (None, 224, 224, 16)      208       \n",
            "                                                                 \n",
            " max_pooling2d (MaxPooling2D  (None, 112, 112, 16)     0         \n",
            " )                                                               \n",
            "                                                                 \n",
            " batch_normalization (BatchN  (None, 112, 112, 16)     64        \n",
            " ormalization)                                                   \n",
            "                                                                 \n",
            " conv2d_1 (Conv2D)           (None, 112, 112, 32)      2080      \n",
            "                                                                 \n",
            " max_pooling2d_1 (MaxPooling  (None, 56, 56, 32)       0         \n",
            " 2D)                                                             \n",
            "                                                                 \n",
            " batch_normalization_1 (Batc  (None, 56, 56, 32)       128       \n",
            " hNormalization)                                                 \n",
            "                                                                 \n",
            " conv2d_2 (Conv2D)           (None, 56, 56, 64)        8256      \n",
            "                                                                 \n",
            " max_pooling2d_2 (MaxPooling  (None, 28, 28, 64)       0         \n",
            " 2D)                                                             \n",
            "                                                                 \n",
            " batch_normalization_2 (Batc  (None, 28, 28, 64)       256       \n",
            " hNormalization)                                                 \n",
            "                                                                 \n",
            " conv2d_3 (Conv2D)           (None, 28, 28, 64)        16448     \n",
            "                                                                 \n",
            " max_pooling2d_3 (MaxPooling  (None, 14, 14, 64)       0         \n",
            " 2D)                                                             \n",
            "                                                                 \n",
            " batch_normalization_3 (Batc  (None, 14, 14, 64)       256       \n",
            " hNormalization)                                                 \n",
            "                                                                 \n",
            " conv2d_4 (Conv2D)           (None, 14, 14, 128)       32896     \n",
            "                                                                 \n",
            " max_pooling2d_4 (MaxPooling  (None, 7, 7, 128)        0         \n",
            " 2D)                                                             \n",
            "                                                                 \n",
            " batch_normalization_4 (Batc  (None, 7, 7, 128)        512       \n",
            " hNormalization)                                                 \n",
            "                                                                 \n",
            " flatten (Flatten)           (None, 6272)              0         \n",
            "                                                                 \n",
            " dropout (Dropout)           (None, 6272)              0         \n",
            "                                                                 \n",
            " dense (Dense)               (None, 128)               802944    \n",
            "                                                                 \n",
            " dense_1 (Dense)             (None, 2)                 258       \n",
            "                                                                 \n",
            "=================================================================\n",
            "Total params: 864,306\n",
            "Trainable params: 863,698\n",
            "Non-trainable params: 608\n",
            "_________________________________________________________________\n",
            "None\n"
          ]
        }
      ],
      "source": [
        "# overview model architecture \n",
        "print(model_mouth.summary())"
      ]
    },
    {
      "cell_type": "code",
      "execution_count": null,
      "metadata": {
        "colab": {
          "base_uri": "https://localhost:8080/",
          "height": 1000
        },
        "id": "BfOXrAMnuE-n",
        "outputId": "952eaa69-65b2-46b9-d788-c15798010ffd"
      },
      "outputs": [
        {
          "output_type": "execute_result",
          "data": {
            "image/png": "[encoded data removed]",
            "text/plain": [
              "<IPython.core.display.Image object>"
            ]
          },
          "metadata": {},
          "execution_count": 19
        }
      ],
      "source": [
        "# visualize model architecture\n",
        "plot_model(model_mouth)"
      ]
    },
    {
      "cell_type": "code",
      "execution_count": null,
      "metadata": {
        "id": "BmFJmGepPYKh"
      },
      "outputs": [],
      "source": [
        "# define callbacks to stop iteration\n",
        "class CustomCallbacks(Callback):\n",
        "  def __init__(self, threshold = 0.9):\n",
        "    super(CustomCallbacks, self).__init__() \n",
        "    self.threshold = threshold \n",
        "  def on_epoch_end(self, epoch, logs = None, monitor = \"val_acc\"):\n",
        "    val_acc = logs[monitor]\n",
        "    if val_acc >= self.threshold: \n",
        "      self.model.stop_training = True"
      ]
    },
    {
      "cell_type": "code",
      "execution_count": null,
      "metadata": {
        "colab": {
          "base_uri": "https://localhost:8080/"
        },
        "id": "-UqR3R7nPYNf",
        "outputId": "e8b3dc19-98b4-4010-d28e-014b4d57a079"
      },
      "outputs": [
        {
          "output_type": "stream",
          "name": "stdout",
          "text": [
            "Epoch 1/100\n",
            "81/81 [==============================] - 555s 7s/step - loss: 0.6918 - acc: 0.6925 - val_loss: 1.3662 - val_acc: 0.4930\n",
            "Epoch 2/100\n",
            "81/81 [==============================] - 10s 124ms/step - loss: 0.4024 - acc: 0.8144 - val_loss: 0.8141 - val_acc: 0.5211\n",
            "Epoch 3/100\n",
            "81/81 [==============================] - 10s 125ms/step - loss: 0.2079 - acc: 0.9154 - val_loss: 1.5955 - val_acc: 0.5000\n",
            "Epoch 4/100\n",
            "81/81 [==============================] - 10s 124ms/step - loss: 0.1339 - acc: 0.9573 - val_loss: 1.8285 - val_acc: 0.5423\n",
            "Epoch 5/100\n",
            "81/81 [==============================] - 10s 126ms/step - loss: 0.0625 - acc: 0.9783 - val_loss: 0.8838 - val_acc: 0.6972\n",
            "Epoch 6/100\n",
            "81/81 [==============================] - 10s 125ms/step - loss: 0.0296 - acc: 0.9907 - val_loss: 1.0229 - val_acc: 0.7324\n",
            "Epoch 7/100\n",
            "81/81 [==============================] - 10s 126ms/step - loss: 0.0259 - acc: 0.9946 - val_loss: 1.6163 - val_acc: 0.7394\n",
            "Epoch 8/100\n",
            "81/81 [==============================] - 10s 125ms/step - loss: 0.0148 - acc: 0.9938 - val_loss: 2.2170 - val_acc: 0.5704\n",
            "Epoch 9/100\n",
            "81/81 [==============================] - 10s 125ms/step - loss: 0.0143 - acc: 0.9946 - val_loss: 1.2791 - val_acc: 0.7113\n",
            "Epoch 10/100\n",
            "81/81 [==============================] - 10s 124ms/step - loss: 0.0165 - acc: 0.9938 - val_loss: 0.9218 - val_acc: 0.7324\n",
            "Epoch 11/100\n",
            "81/81 [==============================] - 10s 124ms/step - loss: 0.0669 - acc: 0.9775 - val_loss: 1.5178 - val_acc: 0.7394\n",
            "Epoch 12/100\n",
            "81/81 [==============================] - 10s 125ms/step - loss: 0.1938 - acc: 0.9480 - val_loss: 1.0670 - val_acc: 0.8310\n",
            "Epoch 13/100\n",
            "81/81 [==============================] - 10s 125ms/step - loss: 0.0548 - acc: 0.9759 - val_loss: 1.4771 - val_acc: 0.7535\n",
            "Epoch 14/100\n",
            "81/81 [==============================] - 10s 124ms/step - loss: 0.0281 - acc: 0.9938 - val_loss: 1.1025 - val_acc: 0.7746\n",
            "Epoch 15/100\n",
            "81/81 [==============================] - 10s 125ms/step - loss: 0.0281 - acc: 0.9922 - val_loss: 0.9872 - val_acc: 0.8662\n",
            "Epoch 16/100\n",
            "81/81 [==============================] - 10s 125ms/step - loss: 0.0129 - acc: 0.9953 - val_loss: 1.3275 - val_acc: 0.7887\n",
            "Epoch 17/100\n",
            "81/81 [==============================] - 10s 125ms/step - loss: 0.0101 - acc: 0.9977 - val_loss: 1.4731 - val_acc: 0.7254\n",
            "Epoch 18/100\n",
            "81/81 [==============================] - 10s 124ms/step - loss: 0.0103 - acc: 0.9984 - val_loss: 1.5427 - val_acc: 0.7535\n",
            "Epoch 19/100\n",
            "81/81 [==============================] - 10s 124ms/step - loss: 0.0084 - acc: 0.9969 - val_loss: 1.5814 - val_acc: 0.7394\n",
            "Epoch 20/100\n",
            "81/81 [==============================] - 10s 125ms/step - loss: 0.0029 - acc: 0.9992 - val_loss: 1.2967 - val_acc: 0.7887\n",
            "Epoch 21/100\n",
            "81/81 [==============================] - 10s 126ms/step - loss: 0.0013 - acc: 0.9992 - val_loss: 1.3773 - val_acc: 0.7676\n",
            "Epoch 22/100\n",
            "81/81 [==============================] - 10s 125ms/step - loss: 7.9295e-05 - acc: 1.0000 - val_loss: 1.4295 - val_acc: 0.7676\n",
            "Epoch 23/100\n",
            "81/81 [==============================] - 10s 125ms/step - loss: 7.7811e-05 - acc: 1.0000 - val_loss: 1.4200 - val_acc: 0.7887\n",
            "Epoch 24/100\n",
            "81/81 [==============================] - 10s 125ms/step - loss: 5.5759e-05 - acc: 1.0000 - val_loss: 1.4201 - val_acc: 0.7817\n",
            "Epoch 25/100\n",
            "81/81 [==============================] - 10s 124ms/step - loss: 8.1935e-05 - acc: 1.0000 - val_loss: 1.4654 - val_acc: 0.7746\n",
            "Epoch 26/100\n",
            "81/81 [==============================] - 10s 124ms/step - loss: 6.8062e-05 - acc: 1.0000 - val_loss: 1.4555 - val_acc: 0.7887\n",
            "Epoch 27/100\n",
            "81/81 [==============================] - 10s 124ms/step - loss: 9.2735e-05 - acc: 1.0000 - val_loss: 1.4832 - val_acc: 0.7887\n",
            "Epoch 28/100\n",
            "81/81 [==============================] - 10s 125ms/step - loss: 5.9883e-05 - acc: 1.0000 - val_loss: 1.4787 - val_acc: 0.7958\n",
            "Epoch 29/100\n",
            "81/81 [==============================] - 10s 127ms/step - loss: 7.9637e-05 - acc: 1.0000 - val_loss: 1.4360 - val_acc: 0.8099\n",
            "Epoch 30/100\n",
            "81/81 [==============================] - 10s 124ms/step - loss: 3.0194e-05 - acc: 1.0000 - val_loss: 1.4293 - val_acc: 0.8099\n",
            "Epoch 31/100\n",
            "81/81 [==============================] - 10s 124ms/step - loss: 5.1818e-05 - acc: 1.0000 - val_loss: 1.4160 - val_acc: 0.7958\n",
            "Epoch 32/100\n",
            "81/81 [==============================] - 10s 126ms/step - loss: 2.8747e-05 - acc: 1.0000 - val_loss: 1.4193 - val_acc: 0.8099\n",
            "Epoch 33/100\n",
            "81/81 [==============================] - 10s 125ms/step - loss: 2.9207e-05 - acc: 1.0000 - val_loss: 1.4390 - val_acc: 0.8028\n",
            "Epoch 34/100\n",
            "81/81 [==============================] - 10s 125ms/step - loss: 1.3287e-04 - acc: 1.0000 - val_loss: 1.4186 - val_acc: 0.8028\n",
            "Epoch 35/100\n",
            "81/81 [==============================] - 10s 125ms/step - loss: 0.0024 - acc: 0.9984 - val_loss: 1.0316 - val_acc: 0.8169\n",
            "Epoch 36/100\n",
            "81/81 [==============================] - 10s 124ms/step - loss: 0.1645 - acc: 0.9557 - val_loss: 2.8727 - val_acc: 0.6620\n",
            "Epoch 37/100\n",
            "81/81 [==============================] - 10s 125ms/step - loss: 0.1265 - acc: 0.9651 - val_loss: 1.7293 - val_acc: 0.7535\n",
            "Epoch 38/100\n",
            "81/81 [==============================] - 10s 125ms/step - loss: 0.0376 - acc: 0.9876 - val_loss: 1.0772 - val_acc: 0.7606\n",
            "Epoch 39/100\n",
            "81/81 [==============================] - 10s 124ms/step - loss: 0.0034 - acc: 0.9992 - val_loss: 1.1961 - val_acc: 0.7746\n",
            "Epoch 40/100\n",
            "81/81 [==============================] - 10s 123ms/step - loss: 0.0037 - acc: 0.9977 - val_loss: 1.0506 - val_acc: 0.7746\n",
            "Epoch 41/100\n",
            "81/81 [==============================] - 10s 124ms/step - loss: 0.0067 - acc: 0.9961 - val_loss: 1.0283 - val_acc: 0.7606\n",
            "Epoch 42/100\n",
            "81/81 [==============================] - 10s 122ms/step - loss: 0.0012 - acc: 1.0000 - val_loss: 1.0912 - val_acc: 0.7676\n",
            "Epoch 43/100\n",
            "81/81 [==============================] - 10s 124ms/step - loss: 0.0014 - acc: 1.0000 - val_loss: 1.2648 - val_acc: 0.7535\n",
            "Epoch 44/100\n",
            "81/81 [==============================] - 10s 124ms/step - loss: 0.0027 - acc: 0.9977 - val_loss: 1.1023 - val_acc: 0.7676\n",
            "Epoch 45/100\n",
            "81/81 [==============================] - 10s 124ms/step - loss: 0.0011 - acc: 0.9992 - val_loss: 1.1735 - val_acc: 0.7606\n",
            "Epoch 46/100\n",
            "81/81 [==============================] - 10s 125ms/step - loss: 3.0564e-04 - acc: 1.0000 - val_loss: 1.1903 - val_acc: 0.7465\n",
            "Epoch 47/100\n",
            "81/81 [==============================] - 10s 124ms/step - loss: 1.5624e-04 - acc: 1.0000 - val_loss: 1.2048 - val_acc: 0.7535\n",
            "Epoch 48/100\n",
            "81/81 [==============================] - 10s 124ms/step - loss: 2.1517e-04 - acc: 1.0000 - val_loss: 1.1884 - val_acc: 0.7465\n",
            "Epoch 49/100\n",
            "81/81 [==============================] - 10s 124ms/step - loss: 2.8915e-04 - acc: 1.0000 - val_loss: 1.0549 - val_acc: 0.7746\n",
            "Epoch 50/100\n",
            "81/81 [==============================] - 10s 124ms/step - loss: 8.7084e-05 - acc: 1.0000 - val_loss: 1.0656 - val_acc: 0.7746\n",
            "Epoch 51/100\n",
            "81/81 [==============================] - 10s 123ms/step - loss: 5.1420e-05 - acc: 1.0000 - val_loss: 1.0444 - val_acc: 0.7958\n",
            "Epoch 52/100\n",
            "81/81 [==============================] - 10s 124ms/step - loss: 7.2889e-05 - acc: 1.0000 - val_loss: 1.0751 - val_acc: 0.7817\n",
            "Epoch 53/100\n",
            "81/81 [==============================] - 10s 123ms/step - loss: 4.8429e-05 - acc: 1.0000 - val_loss: 1.0833 - val_acc: 0.7817\n",
            "Epoch 54/100\n",
            "81/81 [==============================] - 10s 125ms/step - loss: 4.2375e-05 - acc: 1.0000 - val_loss: 1.1073 - val_acc: 0.7676\n",
            "Epoch 55/100\n",
            "81/81 [==============================] - 10s 125ms/step - loss: 3.6558e-05 - acc: 1.0000 - val_loss: 1.1331 - val_acc: 0.7676\n",
            "Epoch 56/100\n",
            "81/81 [==============================] - 10s 125ms/step - loss: 1.2102e-04 - acc: 1.0000 - val_loss: 1.0752 - val_acc: 0.7958\n",
            "Epoch 57/100\n",
            "81/81 [==============================] - 10s 124ms/step - loss: 7.6222e-05 - acc: 1.0000 - val_loss: 1.1433 - val_acc: 0.7817\n",
            "Epoch 58/100\n",
            "81/81 [==============================] - 10s 124ms/step - loss: 2.8093e-05 - acc: 1.0000 - val_loss: 1.1466 - val_acc: 0.7817\n",
            "Epoch 59/100\n",
            "81/81 [==============================] - 10s 127ms/step - loss: 2.2055e-05 - acc: 1.0000 - val_loss: 1.1576 - val_acc: 0.7817\n",
            "Epoch 60/100\n",
            "81/81 [==============================] - 10s 125ms/step - loss: 1.5096e-05 - acc: 1.0000 - val_loss: 1.1588 - val_acc: 0.7817\n",
            "Epoch 61/100\n",
            "81/81 [==============================] - 10s 125ms/step - loss: 2.2300e-05 - acc: 1.0000 - val_loss: 1.1693 - val_acc: 0.7817\n",
            "Epoch 62/100\n",
            "81/81 [==============================] - 10s 125ms/step - loss: 1.7038e-05 - acc: 1.0000 - val_loss: 1.1751 - val_acc: 0.7817\n",
            "Epoch 63/100\n",
            "81/81 [==============================] - 10s 124ms/step - loss: 3.0288e-05 - acc: 1.0000 - val_loss: 1.2150 - val_acc: 0.7817\n",
            "Epoch 64/100\n",
            "81/81 [==============================] - 10s 125ms/step - loss: 2.5569e-05 - acc: 1.0000 - val_loss: 1.2154 - val_acc: 0.7817\n",
            "Epoch 65/100\n",
            "81/81 [==============================] - 10s 125ms/step - loss: 1.6576e-05 - acc: 1.0000 - val_loss: 1.2185 - val_acc: 0.7817\n",
            "Epoch 66/100\n",
            "81/81 [==============================] - 10s 124ms/step - loss: 1.6655e-05 - acc: 1.0000 - val_loss: 1.2034 - val_acc: 0.7817\n",
            "Epoch 67/100\n",
            "81/81 [==============================] - 10s 125ms/step - loss: 2.2361e-05 - acc: 1.0000 - val_loss: 1.2259 - val_acc: 0.7817\n",
            "Epoch 68/100\n",
            "81/81 [==============================] - 10s 124ms/step - loss: 2.4189e-05 - acc: 1.0000 - val_loss: 1.2381 - val_acc: 0.7746\n",
            "Epoch 69/100\n",
            "81/81 [==============================] - 10s 124ms/step - loss: 1.8288e-05 - acc: 1.0000 - val_loss: 1.2080 - val_acc: 0.7817\n",
            "Epoch 70/100\n",
            "81/81 [==============================] - 10s 124ms/step - loss: 2.5995e-05 - acc: 1.0000 - val_loss: 1.3049 - val_acc: 0.7746\n",
            "Epoch 71/100\n",
            "81/81 [==============================] - 10s 123ms/step - loss: 2.9040e-05 - acc: 1.0000 - val_loss: 1.3295 - val_acc: 0.7746\n",
            "Epoch 72/100\n",
            "81/81 [==============================] - 10s 124ms/step - loss: 1.7012e-05 - acc: 1.0000 - val_loss: 1.3642 - val_acc: 0.7746\n",
            "Epoch 73/100\n",
            "81/81 [==============================] - 10s 124ms/step - loss: 1.0709e-05 - acc: 1.0000 - val_loss: 1.3627 - val_acc: 0.7746\n",
            "Epoch 74/100\n",
            "81/81 [==============================] - 10s 124ms/step - loss: 1.0190e-05 - acc: 1.0000 - val_loss: 1.3702 - val_acc: 0.7746\n",
            "Epoch 75/100\n",
            "81/81 [==============================] - 10s 123ms/step - loss: 1.5742e-05 - acc: 1.0000 - val_loss: 1.3865 - val_acc: 0.7676\n",
            "Epoch 76/100\n",
            "81/81 [==============================] - 10s 124ms/step - loss: 1.2172e-05 - acc: 1.0000 - val_loss: 1.3901 - val_acc: 0.7676\n",
            "Epoch 77/100\n",
            "81/81 [==============================] - 10s 124ms/step - loss: 1.5732e-05 - acc: 1.0000 - val_loss: 1.3329 - val_acc: 0.7676\n",
            "Epoch 78/100\n",
            "81/81 [==============================] - 10s 124ms/step - loss: 2.2243e-05 - acc: 1.0000 - val_loss: 1.3357 - val_acc: 0.7676\n",
            "Epoch 79/100\n",
            "81/81 [==============================] - 10s 125ms/step - loss: 1.1285e-05 - acc: 1.0000 - val_loss: 1.3340 - val_acc: 0.7746\n",
            "Epoch 80/100\n",
            "81/81 [==============================] - 10s 125ms/step - loss: 7.2445e-06 - acc: 1.0000 - val_loss: 1.3330 - val_acc: 0.7746\n",
            "Epoch 81/100\n",
            "81/81 [==============================] - 10s 123ms/step - loss: 9.3718e-06 - acc: 1.0000 - val_loss: 1.3440 - val_acc: 0.7746\n",
            "Epoch 82/100\n",
            "81/81 [==============================] - 10s 124ms/step - loss: 1.1028e-05 - acc: 1.0000 - val_loss: 1.3910 - val_acc: 0.7606\n",
            "Epoch 83/100\n",
            "81/81 [==============================] - 10s 123ms/step - loss: 4.7162e-06 - acc: 1.0000 - val_loss: 1.4153 - val_acc: 0.7606\n",
            "Epoch 84/100\n",
            "81/81 [==============================] - 10s 124ms/step - loss: 0.0076 - acc: 0.9984 - val_loss: 3.8569 - val_acc: 0.6690\n",
            "Epoch 85/100\n",
            "81/81 [==============================] - 10s 124ms/step - loss: 0.2743 - acc: 0.9457 - val_loss: 9.2619 - val_acc: 0.5563\n",
            "Epoch 86/100\n",
            "81/81 [==============================] - 10s 124ms/step - loss: 0.1038 - acc: 0.9767 - val_loss: 1.7234 - val_acc: 0.6761\n",
            "Epoch 87/100\n",
            "81/81 [==============================] - 10s 124ms/step - loss: 0.0142 - acc: 0.9961 - val_loss: 1.0193 - val_acc: 0.7676\n",
            "Epoch 88/100\n",
            "81/81 [==============================] - 10s 125ms/step - loss: 0.0112 - acc: 0.9961 - val_loss: 0.9862 - val_acc: 0.7676\n",
            "Epoch 89/100\n",
            "81/81 [==============================] - 10s 124ms/step - loss: 0.0164 - acc: 0.9961 - val_loss: 1.1965 - val_acc: 0.8028\n",
            "Epoch 90/100\n",
            "81/81 [==============================] - 10s 127ms/step - loss: 0.0102 - acc: 0.9969 - val_loss: 0.8148 - val_acc: 0.8028\n",
            "Epoch 91/100\n",
            "81/81 [==============================] - 10s 126ms/step - loss: 0.0035 - acc: 0.9984 - val_loss: 1.0471 - val_acc: 0.8169\n",
            "Epoch 92/100\n",
            "81/81 [==============================] - 10s 124ms/step - loss: 0.0015 - acc: 1.0000 - val_loss: 1.0994 - val_acc: 0.7676\n",
            "Epoch 93/100\n",
            "81/81 [==============================] - 10s 125ms/step - loss: 6.9243e-04 - acc: 1.0000 - val_loss: 1.0545 - val_acc: 0.7817\n",
            "Epoch 94/100\n",
            "81/81 [==============================] - 10s 125ms/step - loss: 3.4670e-04 - acc: 1.0000 - val_loss: 1.0664 - val_acc: 0.7817\n",
            "Epoch 95/100\n",
            "81/81 [==============================] - 10s 124ms/step - loss: 2.3754e-04 - acc: 1.0000 - val_loss: 1.0832 - val_acc: 0.7676\n",
            "Epoch 96/100\n",
            "81/81 [==============================] - 10s 125ms/step - loss: 0.0040 - acc: 0.9977 - val_loss: 0.6646 - val_acc: 0.8803\n",
            "Epoch 97/100\n",
            "81/81 [==============================] - 10s 124ms/step - loss: 8.4298e-04 - acc: 1.0000 - val_loss: 0.6784 - val_acc: 0.8592\n",
            "Epoch 98/100\n",
            "81/81 [==============================] - 10s 124ms/step - loss: 7.5963e-04 - acc: 1.0000 - val_loss: 0.8395 - val_acc: 0.8451\n",
            "Epoch 99/100\n",
            "81/81 [==============================] - 10s 124ms/step - loss: 2.2023e-04 - acc: 1.0000 - val_loss: 0.8090 - val_acc: 0.8451\n",
            "Epoch 100/100\n",
            "81/81 [==============================] - 10s 124ms/step - loss: 6.9638e-05 - acc: 1.0000 - val_loss: 0.8484 - val_acc: 0.8451\n"
          ]
        }
      ],
      "source": [
        "# training model\n",
        "history_mouth = model_mouth.fit(\n",
        "    train_set, \n",
        "    epochs = EPOCHS, \n",
        "    validation_data = test_set, \n",
        "    verbose = 1,\n",
        "    callbacks = [CustomCallbacks()]\n",
        ")"
      ]
    },
    {
      "cell_type": "code",
      "execution_count": null,
      "metadata": {
        "colab": {
          "base_uri": "https://localhost:8080/",
          "height": 1000
        },
        "id": "b5CwQ4z1pE0x",
        "outputId": "e6a9454c-fe85-496a-e459-c5302bc403e6"
      },
      "outputs": [
        {
          "output_type": "execute_result",
          "data": {
            "text/plain": [
              "<pandas.io.formats.style.Styler at 0x7f5d76639150>"
            ],
            "text/html": [
              "<style type=\"text/css\">\n",
              "#T_6238e_row21_col1, #T_6238e_row22_col1, #T_6238e_row23_col1, #T_6238e_row24_col1, #T_6238e_row25_col1, #T_6238e_row26_col1, #T_6238e_row27_col1, #T_6238e_row28_col1, #T_6238e_row29_col1, #T_6238e_row30_col1, #T_6238e_row31_col1, #T_6238e_row32_col1, #T_6238e_row33_col1, #T_6238e_row41_col1, #T_6238e_row42_col1, #T_6238e_row45_col1, #T_6238e_row46_col1, #T_6238e_row47_col1, #T_6238e_row48_col1, #T_6238e_row49_col1, #T_6238e_row50_col1, #T_6238e_row51_col1, #T_6238e_row52_col1, #T_6238e_row53_col1, #T_6238e_row54_col1, #T_6238e_row55_col1, #T_6238e_row56_col1, #T_6238e_row57_col1, #T_6238e_row58_col1, #T_6238e_row59_col1, #T_6238e_row60_col1, #T_6238e_row61_col1, #T_6238e_row62_col1, #T_6238e_row63_col1, #T_6238e_row64_col1, #T_6238e_row65_col1, #T_6238e_row66_col1, #T_6238e_row67_col1, #T_6238e_row68_col1, #T_6238e_row69_col1, #T_6238e_row70_col1, #T_6238e_row71_col1, #T_6238e_row72_col1, #T_6238e_row73_col1, #T_6238e_row74_col1, #T_6238e_row75_col1, #T_6238e_row76_col1, #T_6238e_row77_col1, #T_6238e_row78_col1, #T_6238e_row79_col1, #T_6238e_row80_col1, #T_6238e_row81_col1, #T_6238e_row82_col1, #T_6238e_row91_col1, #T_6238e_row92_col1, #T_6238e_row93_col1, #T_6238e_row94_col1, #T_6238e_row95_col3, #T_6238e_row96_col1, #T_6238e_row97_col1, #T_6238e_row98_col1, #T_6238e_row99_col1 {\n",
              "  background-color: #90B77D;\n",
              "}\n",
              "#T_6238e_row82_col0, #T_6238e_row95_col2 {\n",
              "  background-color: #EE6983;\n",
              "}\n",
              "</style>\n",
              "<table id=\"T_6238e_\" class=\"dataframe\">\n",
              "  <thead>\n",
              "    <tr>\n",
              "      <th class=\"blank level0\" >&nbsp;</th>\n",
              "      <th class=\"col_heading level0 col0\" >loss</th>\n",
              "      <th class=\"col_heading level0 col1\" >acc</th>\n",
              "      <th class=\"col_heading level0 col2\" >val_loss</th>\n",
              "      <th class=\"col_heading level0 col3\" >val_acc</th>\n",
              "    </tr>\n",
              "  </thead>\n",
              "  <tbody>\n",
              "    <tr>\n",
              "      <th id=\"T_6238e_level0_row0\" class=\"row_heading level0 row0\" >0</th>\n",
              "      <td id=\"T_6238e_row0_col0\" class=\"data row0 col0\" >0.691767</td>\n",
              "      <td id=\"T_6238e_row0_col1\" class=\"data row0 col1\" >0.692547</td>\n",
              "      <td id=\"T_6238e_row0_col2\" class=\"data row0 col2\" >1.366188</td>\n",
              "      <td id=\"T_6238e_row0_col3\" class=\"data row0 col3\" >0.492958</td>\n",
              "    </tr>\n",
              "    <tr>\n",
              "      <th id=\"T_6238e_level0_row1\" class=\"row_heading level0 row1\" >1</th>\n",
              "      <td id=\"T_6238e_row1_col0\" class=\"data row1 col0\" >0.402443</td>\n",
              "      <td id=\"T_6238e_row1_col1\" class=\"data row1 col1\" >0.814441</td>\n",
              "      <td id=\"T_6238e_row1_col2\" class=\"data row1 col2\" >0.814115</td>\n",
              "      <td id=\"T_6238e_row1_col3\" class=\"data row1 col3\" >0.521127</td>\n",
              "    </tr>\n",
              "    <tr>\n",
              "      <th id=\"T_6238e_level0_row2\" class=\"row_heading level0 row2\" >2</th>\n",
              "      <td id=\"T_6238e_row2_col0\" class=\"data row2 col0\" >0.207871</td>\n",
              "      <td id=\"T_6238e_row2_col1\" class=\"data row2 col1\" >0.915373</td>\n",
              "      <td id=\"T_6238e_row2_col2\" class=\"data row2 col2\" >1.595518</td>\n",
              "      <td id=\"T_6238e_row2_col3\" class=\"data row2 col3\" >0.500000</td>\n",
              "    </tr>\n",
              "    <tr>\n",
              "      <th id=\"T_6238e_level0_row3\" class=\"row_heading level0 row3\" >3</th>\n",
              "      <td id=\"T_6238e_row3_col0\" class=\"data row3 col0\" >0.133892</td>\n",
              "      <td id=\"T_6238e_row3_col1\" class=\"data row3 col1\" >0.957298</td>\n",
              "      <td id=\"T_6238e_row3_col2\" class=\"data row3 col2\" >1.828456</td>\n",
              "      <td id=\"T_6238e_row3_col3\" class=\"data row3 col3\" >0.542253</td>\n",
              "    </tr>\n",
              "    <tr>\n",
              "      <th id=\"T_6238e_level0_row4\" class=\"row_heading level0 row4\" >4</th>\n",
              "      <td id=\"T_6238e_row4_col0\" class=\"data row4 col0\" >0.062480</td>\n",
              "      <td id=\"T_6238e_row4_col1\" class=\"data row4 col1\" >0.978261</td>\n",
              "      <td id=\"T_6238e_row4_col2\" class=\"data row4 col2\" >0.883765</td>\n",
              "      <td id=\"T_6238e_row4_col3\" class=\"data row4 col3\" >0.697183</td>\n",
              "    </tr>\n",
              "    <tr>\n",
              "      <th id=\"T_6238e_level0_row5\" class=\"row_heading level0 row5\" >5</th>\n",
              "      <td id=\"T_6238e_row5_col0\" class=\"data row5 col0\" >0.029578</td>\n",
              "      <td id=\"T_6238e_row5_col1\" class=\"data row5 col1\" >0.990683</td>\n",
              "      <td id=\"T_6238e_row5_col2\" class=\"data row5 col2\" >1.022918</td>\n",
              "      <td id=\"T_6238e_row5_col3\" class=\"data row5 col3\" >0.732394</td>\n",
              "    </tr>\n",
              "    <tr>\n",
              "      <th id=\"T_6238e_level0_row6\" class=\"row_heading level0 row6\" >6</th>\n",
              "      <td id=\"T_6238e_row6_col0\" class=\"data row6 col0\" >0.025916</td>\n",
              "      <td id=\"T_6238e_row6_col1\" class=\"data row6 col1\" >0.994565</td>\n",
              "      <td id=\"T_6238e_row6_col2\" class=\"data row6 col2\" >1.616331</td>\n",
              "      <td id=\"T_6238e_row6_col3\" class=\"data row6 col3\" >0.739437</td>\n",
              "    </tr>\n",
              "    <tr>\n",
              "      <th id=\"T_6238e_level0_row7\" class=\"row_heading level0 row7\" >7</th>\n",
              "      <td id=\"T_6238e_row7_col0\" class=\"data row7 col0\" >0.014848</td>\n",
              "      <td id=\"T_6238e_row7_col1\" class=\"data row7 col1\" >0.993789</td>\n",
              "      <td id=\"T_6238e_row7_col2\" class=\"data row7 col2\" >2.217034</td>\n",
              "      <td id=\"T_6238e_row7_col3\" class=\"data row7 col3\" >0.570423</td>\n",
              "    </tr>\n",
              "    <tr>\n",
              "      <th id=\"T_6238e_level0_row8\" class=\"row_heading level0 row8\" >8</th>\n",
              "      <td id=\"T_6238e_row8_col0\" class=\"data row8 col0\" >0.014292</td>\n",
              "      <td id=\"T_6238e_row8_col1\" class=\"data row8 col1\" >0.994565</td>\n",
              "      <td id=\"T_6238e_row8_col2\" class=\"data row8 col2\" >1.279109</td>\n",
              "      <td id=\"T_6238e_row8_col3\" class=\"data row8 col3\" >0.711268</td>\n",
              "    </tr>\n",
              "    <tr>\n",
              "      <th id=\"T_6238e_level0_row9\" class=\"row_heading level0 row9\" >9</th>\n",
              "      <td id=\"T_6238e_row9_col0\" class=\"data row9 col0\" >0.016537</td>\n",
              "      <td id=\"T_6238e_row9_col1\" class=\"data row9 col1\" >0.993789</td>\n",
              "      <td id=\"T_6238e_row9_col2\" class=\"data row9 col2\" >0.921825</td>\n",
              "      <td id=\"T_6238e_row9_col3\" class=\"data row9 col3\" >0.732394</td>\n",
              "    </tr>\n",
              "    <tr>\n",
              "      <th id=\"T_6238e_level0_row10\" class=\"row_heading level0 row10\" >10</th>\n",
              "      <td id=\"T_6238e_row10_col0\" class=\"data row10 col0\" >0.066888</td>\n",
              "      <td id=\"T_6238e_row10_col1\" class=\"data row10 col1\" >0.977484</td>\n",
              "      <td id=\"T_6238e_row10_col2\" class=\"data row10 col2\" >1.517819</td>\n",
              "      <td id=\"T_6238e_row10_col3\" class=\"data row10 col3\" >0.739437</td>\n",
              "    </tr>\n",
              "    <tr>\n",
              "      <th id=\"T_6238e_level0_row11\" class=\"row_heading level0 row11\" >11</th>\n",
              "      <td id=\"T_6238e_row11_col0\" class=\"data row11 col0\" >0.193802</td>\n",
              "      <td id=\"T_6238e_row11_col1\" class=\"data row11 col1\" >0.947981</td>\n",
              "      <td id=\"T_6238e_row11_col2\" class=\"data row11 col2\" >1.066992</td>\n",
              "      <td id=\"T_6238e_row11_col3\" class=\"data row11 col3\" >0.830986</td>\n",
              "    </tr>\n",
              "    <tr>\n",
              "      <th id=\"T_6238e_level0_row12\" class=\"row_heading level0 row12\" >12</th>\n",
              "      <td id=\"T_6238e_row12_col0\" class=\"data row12 col0\" >0.054777</td>\n",
              "      <td id=\"T_6238e_row12_col1\" class=\"data row12 col1\" >0.975932</td>\n",
              "      <td id=\"T_6238e_row12_col2\" class=\"data row12 col2\" >1.477095</td>\n",
              "      <td id=\"T_6238e_row12_col3\" class=\"data row12 col3\" >0.753521</td>\n",
              "    </tr>\n",
              "    <tr>\n",
              "      <th id=\"T_6238e_level0_row13\" class=\"row_heading level0 row13\" >13</th>\n",
              "      <td id=\"T_6238e_row13_col0\" class=\"data row13 col0\" >0.028082</td>\n",
              "      <td id=\"T_6238e_row13_col1\" class=\"data row13 col1\" >0.993789</td>\n",
              "      <td id=\"T_6238e_row13_col2\" class=\"data row13 col2\" >1.102540</td>\n",
              "      <td id=\"T_6238e_row13_col3\" class=\"data row13 col3\" >0.774648</td>\n",
              "    </tr>\n",
              "    <tr>\n",
              "      <th id=\"T_6238e_level0_row14\" class=\"row_heading level0 row14\" >14</th>\n",
              "      <td id=\"T_6238e_row14_col0\" class=\"data row14 col0\" >0.028102</td>\n",
              "      <td id=\"T_6238e_row14_col1\" class=\"data row14 col1\" >0.992236</td>\n",
              "      <td id=\"T_6238e_row14_col2\" class=\"data row14 col2\" >0.987213</td>\n",
              "      <td id=\"T_6238e_row14_col3\" class=\"data row14 col3\" >0.866197</td>\n",
              "    </tr>\n",
              "    <tr>\n",
              "      <th id=\"T_6238e_level0_row15\" class=\"row_heading level0 row15\" >15</th>\n",
              "      <td id=\"T_6238e_row15_col0\" class=\"data row15 col0\" >0.012853</td>\n",
              "      <td id=\"T_6238e_row15_col1\" class=\"data row15 col1\" >0.995342</td>\n",
              "      <td id=\"T_6238e_row15_col2\" class=\"data row15 col2\" >1.327472</td>\n",
              "      <td id=\"T_6238e_row15_col3\" class=\"data row15 col3\" >0.788732</td>\n",
              "    </tr>\n",
              "    <tr>\n",
              "      <th id=\"T_6238e_level0_row16\" class=\"row_heading level0 row16\" >16</th>\n",
              "      <td id=\"T_6238e_row16_col0\" class=\"data row16 col0\" >0.010121</td>\n",
              "      <td id=\"T_6238e_row16_col1\" class=\"data row16 col1\" >0.997671</td>\n",
              "      <td id=\"T_6238e_row16_col2\" class=\"data row16 col2\" >1.473057</td>\n",
              "      <td id=\"T_6238e_row16_col3\" class=\"data row16 col3\" >0.725352</td>\n",
              "    </tr>\n",
              "    <tr>\n",
              "      <th id=\"T_6238e_level0_row17\" class=\"row_heading level0 row17\" >17</th>\n",
              "      <td id=\"T_6238e_row17_col0\" class=\"data row17 col0\" >0.010336</td>\n",
              "      <td id=\"T_6238e_row17_col1\" class=\"data row17 col1\" >0.998447</td>\n",
              "      <td id=\"T_6238e_row17_col2\" class=\"data row17 col2\" >1.542659</td>\n",
              "      <td id=\"T_6238e_row17_col3\" class=\"data row17 col3\" >0.753521</td>\n",
              "    </tr>\n",
              "    <tr>\n",
              "      <th id=\"T_6238e_level0_row18\" class=\"row_heading level0 row18\" >18</th>\n",
              "      <td id=\"T_6238e_row18_col0\" class=\"data row18 col0\" >0.008398</td>\n",
              "      <td id=\"T_6238e_row18_col1\" class=\"data row18 col1\" >0.996894</td>\n",
              "      <td id=\"T_6238e_row18_col2\" class=\"data row18 col2\" >1.581431</td>\n",
              "      <td id=\"T_6238e_row18_col3\" class=\"data row18 col3\" >0.739437</td>\n",
              "    </tr>\n",
              "    <tr>\n",
              "      <th id=\"T_6238e_level0_row19\" class=\"row_heading level0 row19\" >19</th>\n",
              "      <td id=\"T_6238e_row19_col0\" class=\"data row19 col0\" >0.002861</td>\n",
              "      <td id=\"T_6238e_row19_col1\" class=\"data row19 col1\" >0.999224</td>\n",
              "      <td id=\"T_6238e_row19_col2\" class=\"data row19 col2\" >1.296661</td>\n",
              "      <td id=\"T_6238e_row19_col3\" class=\"data row19 col3\" >0.788732</td>\n",
              "    </tr>\n",
              "    <tr>\n",
              "      <th id=\"T_6238e_level0_row20\" class=\"row_heading level0 row20\" >20</th>\n",
              "      <td id=\"T_6238e_row20_col0\" class=\"data row20 col0\" >0.001320</td>\n",
              "      <td id=\"T_6238e_row20_col1\" class=\"data row20 col1\" >0.999224</td>\n",
              "      <td id=\"T_6238e_row20_col2\" class=\"data row20 col2\" >1.377316</td>\n",
              "      <td id=\"T_6238e_row20_col3\" class=\"data row20 col3\" >0.767606</td>\n",
              "    </tr>\n",
              "    <tr>\n",
              "      <th id=\"T_6238e_level0_row21\" class=\"row_heading level0 row21\" >21</th>\n",
              "      <td id=\"T_6238e_row21_col0\" class=\"data row21 col0\" >0.000079</td>\n",
              "      <td id=\"T_6238e_row21_col1\" class=\"data row21 col1\" >1.000000</td>\n",
              "      <td id=\"T_6238e_row21_col2\" class=\"data row21 col2\" >1.429478</td>\n",
              "      <td id=\"T_6238e_row21_col3\" class=\"data row21 col3\" >0.767606</td>\n",
              "    </tr>\n",
              "    <tr>\n",
              "      <th id=\"T_6238e_level0_row22\" class=\"row_heading level0 row22\" >22</th>\n",
              "      <td id=\"T_6238e_row22_col0\" class=\"data row22 col0\" >0.000078</td>\n",
              "      <td id=\"T_6238e_row22_col1\" class=\"data row22 col1\" >1.000000</td>\n",
              "      <td id=\"T_6238e_row22_col2\" class=\"data row22 col2\" >1.419969</td>\n",
              "      <td id=\"T_6238e_row22_col3\" class=\"data row22 col3\" >0.788732</td>\n",
              "    </tr>\n",
              "    <tr>\n",
              "      <th id=\"T_6238e_level0_row23\" class=\"row_heading level0 row23\" >23</th>\n",
              "      <td id=\"T_6238e_row23_col0\" class=\"data row23 col0\" >0.000056</td>\n",
              "      <td id=\"T_6238e_row23_col1\" class=\"data row23 col1\" >1.000000</td>\n",
              "      <td id=\"T_6238e_row23_col2\" class=\"data row23 col2\" >1.420115</td>\n",
              "      <td id=\"T_6238e_row23_col3\" class=\"data row23 col3\" >0.781690</td>\n",
              "    </tr>\n",
              "    <tr>\n",
              "      <th id=\"T_6238e_level0_row24\" class=\"row_heading level0 row24\" >24</th>\n",
              "      <td id=\"T_6238e_row24_col0\" class=\"data row24 col0\" >0.000082</td>\n",
              "      <td id=\"T_6238e_row24_col1\" class=\"data row24 col1\" >1.000000</td>\n",
              "      <td id=\"T_6238e_row24_col2\" class=\"data row24 col2\" >1.465443</td>\n",
              "      <td id=\"T_6238e_row24_col3\" class=\"data row24 col3\" >0.774648</td>\n",
              "    </tr>\n",
              "    <tr>\n",
              "      <th id=\"T_6238e_level0_row25\" class=\"row_heading level0 row25\" >25</th>\n",
              "      <td id=\"T_6238e_row25_col0\" class=\"data row25 col0\" >0.000068</td>\n",
              "      <td id=\"T_6238e_row25_col1\" class=\"data row25 col1\" >1.000000</td>\n",
              "      <td id=\"T_6238e_row25_col2\" class=\"data row25 col2\" >1.455502</td>\n",
              "      <td id=\"T_6238e_row25_col3\" class=\"data row25 col3\" >0.788732</td>\n",
              "    </tr>\n",
              "    <tr>\n",
              "      <th id=\"T_6238e_level0_row26\" class=\"row_heading level0 row26\" >26</th>\n",
              "      <td id=\"T_6238e_row26_col0\" class=\"data row26 col0\" >0.000093</td>\n",
              "      <td id=\"T_6238e_row26_col1\" class=\"data row26 col1\" >1.000000</td>\n",
              "      <td id=\"T_6238e_row26_col2\" class=\"data row26 col2\" >1.483194</td>\n",
              "      <td id=\"T_6238e_row26_col3\" class=\"data row26 col3\" >0.788732</td>\n",
              "    </tr>\n",
              "    <tr>\n",
              "      <th id=\"T_6238e_level0_row27\" class=\"row_heading level0 row27\" >27</th>\n",
              "      <td id=\"T_6238e_row27_col0\" class=\"data row27 col0\" >0.000060</td>\n",
              "      <td id=\"T_6238e_row27_col1\" class=\"data row27 col1\" >1.000000</td>\n",
              "      <td id=\"T_6238e_row27_col2\" class=\"data row27 col2\" >1.478716</td>\n",
              "      <td id=\"T_6238e_row27_col3\" class=\"data row27 col3\" >0.795775</td>\n",
              "    </tr>\n",
              "    <tr>\n",
              "      <th id=\"T_6238e_level0_row28\" class=\"row_heading level0 row28\" >28</th>\n",
              "      <td id=\"T_6238e_row28_col0\" class=\"data row28 col0\" >0.000080</td>\n",
              "      <td id=\"T_6238e_row28_col1\" class=\"data row28 col1\" >1.000000</td>\n",
              "      <td id=\"T_6238e_row28_col2\" class=\"data row28 col2\" >1.435956</td>\n",
              "      <td id=\"T_6238e_row28_col3\" class=\"data row28 col3\" >0.809859</td>\n",
              "    </tr>\n",
              "    <tr>\n",
              "      <th id=\"T_6238e_level0_row29\" class=\"row_heading level0 row29\" >29</th>\n",
              "      <td id=\"T_6238e_row29_col0\" class=\"data row29 col0\" >0.000030</td>\n",
              "      <td id=\"T_6238e_row29_col1\" class=\"data row29 col1\" >1.000000</td>\n",
              "      <td id=\"T_6238e_row29_col2\" class=\"data row29 col2\" >1.429264</td>\n",
              "      <td id=\"T_6238e_row29_col3\" class=\"data row29 col3\" >0.809859</td>\n",
              "    </tr>\n",
              "    <tr>\n",
              "      <th id=\"T_6238e_level0_row30\" class=\"row_heading level0 row30\" >30</th>\n",
              "      <td id=\"T_6238e_row30_col0\" class=\"data row30 col0\" >0.000052</td>\n",
              "      <td id=\"T_6238e_row30_col1\" class=\"data row30 col1\" >1.000000</td>\n",
              "      <td id=\"T_6238e_row30_col2\" class=\"data row30 col2\" >1.416020</td>\n",
              "      <td id=\"T_6238e_row30_col3\" class=\"data row30 col3\" >0.795775</td>\n",
              "    </tr>\n",
              "    <tr>\n",
              "      <th id=\"T_6238e_level0_row31\" class=\"row_heading level0 row31\" >31</th>\n",
              "      <td id=\"T_6238e_row31_col0\" class=\"data row31 col0\" >0.000029</td>\n",
              "      <td id=\"T_6238e_row31_col1\" class=\"data row31 col1\" >1.000000</td>\n",
              "      <td id=\"T_6238e_row31_col2\" class=\"data row31 col2\" >1.419311</td>\n",
              "      <td id=\"T_6238e_row31_col3\" class=\"data row31 col3\" >0.809859</td>\n",
              "    </tr>\n",
              "    <tr>\n",
              "      <th id=\"T_6238e_level0_row32\" class=\"row_heading level0 row32\" >32</th>\n",
              "      <td id=\"T_6238e_row32_col0\" class=\"data row32 col0\" >0.000029</td>\n",
              "      <td id=\"T_6238e_row32_col1\" class=\"data row32 col1\" >1.000000</td>\n",
              "      <td id=\"T_6238e_row32_col2\" class=\"data row32 col2\" >1.438993</td>\n",
              "      <td id=\"T_6238e_row32_col3\" class=\"data row32 col3\" >0.802817</td>\n",
              "    </tr>\n",
              "    <tr>\n",
              "      <th id=\"T_6238e_level0_row33\" class=\"row_heading level0 row33\" >33</th>\n",
              "      <td id=\"T_6238e_row33_col0\" class=\"data row33 col0\" >0.000133</td>\n",
              "      <td id=\"T_6238e_row33_col1\" class=\"data row33 col1\" >1.000000</td>\n",
              "      <td id=\"T_6238e_row33_col2\" class=\"data row33 col2\" >1.418646</td>\n",
              "      <td id=\"T_6238e_row33_col3\" class=\"data row33 col3\" >0.802817</td>\n",
              "    </tr>\n",
              "    <tr>\n",
              "      <th id=\"T_6238e_level0_row34\" class=\"row_heading level0 row34\" >34</th>\n",
              "      <td id=\"T_6238e_row34_col0\" class=\"data row34 col0\" >0.002385</td>\n",
              "      <td id=\"T_6238e_row34_col1\" class=\"data row34 col1\" >0.998447</td>\n",
              "      <td id=\"T_6238e_row34_col2\" class=\"data row34 col2\" >1.031574</td>\n",
              "      <td id=\"T_6238e_row34_col3\" class=\"data row34 col3\" >0.816901</td>\n",
              "    </tr>\n",
              "    <tr>\n",
              "      <th id=\"T_6238e_level0_row35\" class=\"row_heading level0 row35\" >35</th>\n",
              "      <td id=\"T_6238e_row35_col0\" class=\"data row35 col0\" >0.164464</td>\n",
              "      <td id=\"T_6238e_row35_col1\" class=\"data row35 col1\" >0.955745</td>\n",
              "      <td id=\"T_6238e_row35_col2\" class=\"data row35 col2\" >2.872748</td>\n",
              "      <td id=\"T_6238e_row35_col3\" class=\"data row35 col3\" >0.661972</td>\n",
              "    </tr>\n",
              "    <tr>\n",
              "      <th id=\"T_6238e_level0_row36\" class=\"row_heading level0 row36\" >36</th>\n",
              "      <td id=\"T_6238e_row36_col0\" class=\"data row36 col0\" >0.126541</td>\n",
              "      <td id=\"T_6238e_row36_col1\" class=\"data row36 col1\" >0.965062</td>\n",
              "      <td id=\"T_6238e_row36_col2\" class=\"data row36 col2\" >1.729336</td>\n",
              "      <td id=\"T_6238e_row36_col3\" class=\"data row36 col3\" >0.753521</td>\n",
              "    </tr>\n",
              "    <tr>\n",
              "      <th id=\"T_6238e_level0_row37\" class=\"row_heading level0 row37\" >37</th>\n",
              "      <td id=\"T_6238e_row37_col0\" class=\"data row37 col0\" >0.037622</td>\n",
              "      <td id=\"T_6238e_row37_col1\" class=\"data row37 col1\" >0.987578</td>\n",
              "      <td id=\"T_6238e_row37_col2\" class=\"data row37 col2\" >1.077198</td>\n",
              "      <td id=\"T_6238e_row37_col3\" class=\"data row37 col3\" >0.760563</td>\n",
              "    </tr>\n",
              "    <tr>\n",
              "      <th id=\"T_6238e_level0_row38\" class=\"row_heading level0 row38\" >38</th>\n",
              "      <td id=\"T_6238e_row38_col0\" class=\"data row38 col0\" >0.003356</td>\n",
              "      <td id=\"T_6238e_row38_col1\" class=\"data row38 col1\" >0.999224</td>\n",
              "      <td id=\"T_6238e_row38_col2\" class=\"data row38 col2\" >1.196064</td>\n",
              "      <td id=\"T_6238e_row38_col3\" class=\"data row38 col3\" >0.774648</td>\n",
              "    </tr>\n",
              "    <tr>\n",
              "      <th id=\"T_6238e_level0_row39\" class=\"row_heading level0 row39\" >39</th>\n",
              "      <td id=\"T_6238e_row39_col0\" class=\"data row39 col0\" >0.003742</td>\n",
              "      <td id=\"T_6238e_row39_col1\" class=\"data row39 col1\" >0.997671</td>\n",
              "      <td id=\"T_6238e_row39_col2\" class=\"data row39 col2\" >1.050639</td>\n",
              "      <td id=\"T_6238e_row39_col3\" class=\"data row39 col3\" >0.774648</td>\n",
              "    </tr>\n",
              "    <tr>\n",
              "      <th id=\"T_6238e_level0_row40\" class=\"row_heading level0 row40\" >40</th>\n",
              "      <td id=\"T_6238e_row40_col0\" class=\"data row40 col0\" >0.006712</td>\n",
              "      <td id=\"T_6238e_row40_col1\" class=\"data row40 col1\" >0.996118</td>\n",
              "      <td id=\"T_6238e_row40_col2\" class=\"data row40 col2\" >1.028279</td>\n",
              "      <td id=\"T_6238e_row40_col3\" class=\"data row40 col3\" >0.760563</td>\n",
              "    </tr>\n",
              "    <tr>\n",
              "      <th id=\"T_6238e_level0_row41\" class=\"row_heading level0 row41\" >41</th>\n",
              "      <td id=\"T_6238e_row41_col0\" class=\"data row41 col0\" >0.001237</td>\n",
              "      <td id=\"T_6238e_row41_col1\" class=\"data row41 col1\" >1.000000</td>\n",
              "      <td id=\"T_6238e_row41_col2\" class=\"data row41 col2\" >1.091179</td>\n",
              "      <td id=\"T_6238e_row41_col3\" class=\"data row41 col3\" >0.767606</td>\n",
              "    </tr>\n",
              "    <tr>\n",
              "      <th id=\"T_6238e_level0_row42\" class=\"row_heading level0 row42\" >42</th>\n",
              "      <td id=\"T_6238e_row42_col0\" class=\"data row42 col0\" >0.001433</td>\n",
              "      <td id=\"T_6238e_row42_col1\" class=\"data row42 col1\" >1.000000</td>\n",
              "      <td id=\"T_6238e_row42_col2\" class=\"data row42 col2\" >1.264794</td>\n",
              "      <td id=\"T_6238e_row42_col3\" class=\"data row42 col3\" >0.753521</td>\n",
              "    </tr>\n",
              "    <tr>\n",
              "      <th id=\"T_6238e_level0_row43\" class=\"row_heading level0 row43\" >43</th>\n",
              "      <td id=\"T_6238e_row43_col0\" class=\"data row43 col0\" >0.002745</td>\n",
              "      <td id=\"T_6238e_row43_col1\" class=\"data row43 col1\" >0.997671</td>\n",
              "      <td id=\"T_6238e_row43_col2\" class=\"data row43 col2\" >1.102272</td>\n",
              "      <td id=\"T_6238e_row43_col3\" class=\"data row43 col3\" >0.767606</td>\n",
              "    </tr>\n",
              "    <tr>\n",
              "      <th id=\"T_6238e_level0_row44\" class=\"row_heading level0 row44\" >44</th>\n",
              "      <td id=\"T_6238e_row44_col0\" class=\"data row44 col0\" >0.001099</td>\n",
              "      <td id=\"T_6238e_row44_col1\" class=\"data row44 col1\" >0.999224</td>\n",
              "      <td id=\"T_6238e_row44_col2\" class=\"data row44 col2\" >1.173511</td>\n",
              "      <td id=\"T_6238e_row44_col3\" class=\"data row44 col3\" >0.760563</td>\n",
              "    </tr>\n",
              "    <tr>\n",
              "      <th id=\"T_6238e_level0_row45\" class=\"row_heading level0 row45\" >45</th>\n",
              "      <td id=\"T_6238e_row45_col0\" class=\"data row45 col0\" >0.000306</td>\n",
              "      <td id=\"T_6238e_row45_col1\" class=\"data row45 col1\" >1.000000</td>\n",
              "      <td id=\"T_6238e_row45_col2\" class=\"data row45 col2\" >1.190335</td>\n",
              "      <td id=\"T_6238e_row45_col3\" class=\"data row45 col3\" >0.746479</td>\n",
              "    </tr>\n",
              "    <tr>\n",
              "      <th id=\"T_6238e_level0_row46\" class=\"row_heading level0 row46\" >46</th>\n",
              "      <td id=\"T_6238e_row46_col0\" class=\"data row46 col0\" >0.000156</td>\n",
              "      <td id=\"T_6238e_row46_col1\" class=\"data row46 col1\" >1.000000</td>\n",
              "      <td id=\"T_6238e_row46_col2\" class=\"data row46 col2\" >1.204803</td>\n",
              "      <td id=\"T_6238e_row46_col3\" class=\"data row46 col3\" >0.753521</td>\n",
              "    </tr>\n",
              "    <tr>\n",
              "      <th id=\"T_6238e_level0_row47\" class=\"row_heading level0 row47\" >47</th>\n",
              "      <td id=\"T_6238e_row47_col0\" class=\"data row47 col0\" >0.000215</td>\n",
              "      <td id=\"T_6238e_row47_col1\" class=\"data row47 col1\" >1.000000</td>\n",
              "      <td id=\"T_6238e_row47_col2\" class=\"data row47 col2\" >1.188431</td>\n",
              "      <td id=\"T_6238e_row47_col3\" class=\"data row47 col3\" >0.746479</td>\n",
              "    </tr>\n",
              "    <tr>\n",
              "      <th id=\"T_6238e_level0_row48\" class=\"row_heading level0 row48\" >48</th>\n",
              "      <td id=\"T_6238e_row48_col0\" class=\"data row48 col0\" >0.000289</td>\n",
              "      <td id=\"T_6238e_row48_col1\" class=\"data row48 col1\" >1.000000</td>\n",
              "      <td id=\"T_6238e_row48_col2\" class=\"data row48 col2\" >1.054920</td>\n",
              "      <td id=\"T_6238e_row48_col3\" class=\"data row48 col3\" >0.774648</td>\n",
              "    </tr>\n",
              "    <tr>\n",
              "      <th id=\"T_6238e_level0_row49\" class=\"row_heading level0 row49\" >49</th>\n",
              "      <td id=\"T_6238e_row49_col0\" class=\"data row49 col0\" >0.000087</td>\n",
              "      <td id=\"T_6238e_row49_col1\" class=\"data row49 col1\" >1.000000</td>\n",
              "      <td id=\"T_6238e_row49_col2\" class=\"data row49 col2\" >1.065597</td>\n",
              "      <td id=\"T_6238e_row49_col3\" class=\"data row49 col3\" >0.774648</td>\n",
              "    </tr>\n",
              "    <tr>\n",
              "      <th id=\"T_6238e_level0_row50\" class=\"row_heading level0 row50\" >50</th>\n",
              "      <td id=\"T_6238e_row50_col0\" class=\"data row50 col0\" >0.000051</td>\n",
              "      <td id=\"T_6238e_row50_col1\" class=\"data row50 col1\" >1.000000</td>\n",
              "      <td id=\"T_6238e_row50_col2\" class=\"data row50 col2\" >1.044392</td>\n",
              "      <td id=\"T_6238e_row50_col3\" class=\"data row50 col3\" >0.795775</td>\n",
              "    </tr>\n",
              "    <tr>\n",
              "      <th id=\"T_6238e_level0_row51\" class=\"row_heading level0 row51\" >51</th>\n",
              "      <td id=\"T_6238e_row51_col0\" class=\"data row51 col0\" >0.000073</td>\n",
              "      <td id=\"T_6238e_row51_col1\" class=\"data row51 col1\" >1.000000</td>\n",
              "      <td id=\"T_6238e_row51_col2\" class=\"data row51 col2\" >1.075062</td>\n",
              "      <td id=\"T_6238e_row51_col3\" class=\"data row51 col3\" >0.781690</td>\n",
              "    </tr>\n",
              "    <tr>\n",
              "      <th id=\"T_6238e_level0_row52\" class=\"row_heading level0 row52\" >52</th>\n",
              "      <td id=\"T_6238e_row52_col0\" class=\"data row52 col0\" >0.000048</td>\n",
              "      <td id=\"T_6238e_row52_col1\" class=\"data row52 col1\" >1.000000</td>\n",
              "      <td id=\"T_6238e_row52_col2\" class=\"data row52 col2\" >1.083290</td>\n",
              "      <td id=\"T_6238e_row52_col3\" class=\"data row52 col3\" >0.781690</td>\n",
              "    </tr>\n",
              "    <tr>\n",
              "      <th id=\"T_6238e_level0_row53\" class=\"row_heading level0 row53\" >53</th>\n",
              "      <td id=\"T_6238e_row53_col0\" class=\"data row53 col0\" >0.000042</td>\n",
              "      <td id=\"T_6238e_row53_col1\" class=\"data row53 col1\" >1.000000</td>\n",
              "      <td id=\"T_6238e_row53_col2\" class=\"data row53 col2\" >1.107295</td>\n",
              "      <td id=\"T_6238e_row53_col3\" class=\"data row53 col3\" >0.767606</td>\n",
              "    </tr>\n",
              "    <tr>\n",
              "      <th id=\"T_6238e_level0_row54\" class=\"row_heading level0 row54\" >54</th>\n",
              "      <td id=\"T_6238e_row54_col0\" class=\"data row54 col0\" >0.000037</td>\n",
              "      <td id=\"T_6238e_row54_col1\" class=\"data row54 col1\" >1.000000</td>\n",
              "      <td id=\"T_6238e_row54_col2\" class=\"data row54 col2\" >1.133088</td>\n",
              "      <td id=\"T_6238e_row54_col3\" class=\"data row54 col3\" >0.767606</td>\n",
              "    </tr>\n",
              "    <tr>\n",
              "      <th id=\"T_6238e_level0_row55\" class=\"row_heading level0 row55\" >55</th>\n",
              "      <td id=\"T_6238e_row55_col0\" class=\"data row55 col0\" >0.000121</td>\n",
              "      <td id=\"T_6238e_row55_col1\" class=\"data row55 col1\" >1.000000</td>\n",
              "      <td id=\"T_6238e_row55_col2\" class=\"data row55 col2\" >1.075180</td>\n",
              "      <td id=\"T_6238e_row55_col3\" class=\"data row55 col3\" >0.795775</td>\n",
              "    </tr>\n",
              "    <tr>\n",
              "      <th id=\"T_6238e_level0_row56\" class=\"row_heading level0 row56\" >56</th>\n",
              "      <td id=\"T_6238e_row56_col0\" class=\"data row56 col0\" >0.000076</td>\n",
              "      <td id=\"T_6238e_row56_col1\" class=\"data row56 col1\" >1.000000</td>\n",
              "      <td id=\"T_6238e_row56_col2\" class=\"data row56 col2\" >1.143265</td>\n",
              "      <td id=\"T_6238e_row56_col3\" class=\"data row56 col3\" >0.781690</td>\n",
              "    </tr>\n",
              "    <tr>\n",
              "      <th id=\"T_6238e_level0_row57\" class=\"row_heading level0 row57\" >57</th>\n",
              "      <td id=\"T_6238e_row57_col0\" class=\"data row57 col0\" >0.000028</td>\n",
              "      <td id=\"T_6238e_row57_col1\" class=\"data row57 col1\" >1.000000</td>\n",
              "      <td id=\"T_6238e_row57_col2\" class=\"data row57 col2\" >1.146617</td>\n",
              "      <td id=\"T_6238e_row57_col3\" class=\"data row57 col3\" >0.781690</td>\n",
              "    </tr>\n",
              "    <tr>\n",
              "      <th id=\"T_6238e_level0_row58\" class=\"row_heading level0 row58\" >58</th>\n",
              "      <td id=\"T_6238e_row58_col0\" class=\"data row58 col0\" >0.000022</td>\n",
              "      <td id=\"T_6238e_row58_col1\" class=\"data row58 col1\" >1.000000</td>\n",
              "      <td id=\"T_6238e_row58_col2\" class=\"data row58 col2\" >1.157577</td>\n",
              "      <td id=\"T_6238e_row58_col3\" class=\"data row58 col3\" >0.781690</td>\n",
              "    </tr>\n",
              "    <tr>\n",
              "      <th id=\"T_6238e_level0_row59\" class=\"row_heading level0 row59\" >59</th>\n",
              "      <td id=\"T_6238e_row59_col0\" class=\"data row59 col0\" >0.000015</td>\n",
              "      <td id=\"T_6238e_row59_col1\" class=\"data row59 col1\" >1.000000</td>\n",
              "      <td id=\"T_6238e_row59_col2\" class=\"data row59 col2\" >1.158775</td>\n",
              "      <td id=\"T_6238e_row59_col3\" class=\"data row59 col3\" >0.781690</td>\n",
              "    </tr>\n",
              "    <tr>\n",
              "      <th id=\"T_6238e_level0_row60\" class=\"row_heading level0 row60\" >60</th>\n",
              "      <td id=\"T_6238e_row60_col0\" class=\"data row60 col0\" >0.000022</td>\n",
              "      <td id=\"T_6238e_row60_col1\" class=\"data row60 col1\" >1.000000</td>\n",
              "      <td id=\"T_6238e_row60_col2\" class=\"data row60 col2\" >1.169321</td>\n",
              "      <td id=\"T_6238e_row60_col3\" class=\"data row60 col3\" >0.781690</td>\n",
              "    </tr>\n",
              "    <tr>\n",
              "      <th id=\"T_6238e_level0_row61\" class=\"row_heading level0 row61\" >61</th>\n",
              "      <td id=\"T_6238e_row61_col0\" class=\"data row61 col0\" >0.000017</td>\n",
              "      <td id=\"T_6238e_row61_col1\" class=\"data row61 col1\" >1.000000</td>\n",
              "      <td id=\"T_6238e_row61_col2\" class=\"data row61 col2\" >1.175061</td>\n",
              "      <td id=\"T_6238e_row61_col3\" class=\"data row61 col3\" >0.781690</td>\n",
              "    </tr>\n",
              "    <tr>\n",
              "      <th id=\"T_6238e_level0_row62\" class=\"row_heading level0 row62\" >62</th>\n",
              "      <td id=\"T_6238e_row62_col0\" class=\"data row62 col0\" >0.000030</td>\n",
              "      <td id=\"T_6238e_row62_col1\" class=\"data row62 col1\" >1.000000</td>\n",
              "      <td id=\"T_6238e_row62_col2\" class=\"data row62 col2\" >1.215034</td>\n",
              "      <td id=\"T_6238e_row62_col3\" class=\"data row62 col3\" >0.781690</td>\n",
              "    </tr>\n",
              "    <tr>\n",
              "      <th id=\"T_6238e_level0_row63\" class=\"row_heading level0 row63\" >63</th>\n",
              "      <td id=\"T_6238e_row63_col0\" class=\"data row63 col0\" >0.000026</td>\n",
              "      <td id=\"T_6238e_row63_col1\" class=\"data row63 col1\" >1.000000</td>\n",
              "      <td id=\"T_6238e_row63_col2\" class=\"data row63 col2\" >1.215369</td>\n",
              "      <td id=\"T_6238e_row63_col3\" class=\"data row63 col3\" >0.781690</td>\n",
              "    </tr>\n",
              "    <tr>\n",
              "      <th id=\"T_6238e_level0_row64\" class=\"row_heading level0 row64\" >64</th>\n",
              "      <td id=\"T_6238e_row64_col0\" class=\"data row64 col0\" >0.000017</td>\n",
              "      <td id=\"T_6238e_row64_col1\" class=\"data row64 col1\" >1.000000</td>\n",
              "      <td id=\"T_6238e_row64_col2\" class=\"data row64 col2\" >1.218468</td>\n",
              "      <td id=\"T_6238e_row64_col3\" class=\"data row64 col3\" >0.781690</td>\n",
              "    </tr>\n",
              "    <tr>\n",
              "      <th id=\"T_6238e_level0_row65\" class=\"row_heading level0 row65\" >65</th>\n",
              "      <td id=\"T_6238e_row65_col0\" class=\"data row65 col0\" >0.000017</td>\n",
              "      <td id=\"T_6238e_row65_col1\" class=\"data row65 col1\" >1.000000</td>\n",
              "      <td id=\"T_6238e_row65_col2\" class=\"data row65 col2\" >1.203359</td>\n",
              "      <td id=\"T_6238e_row65_col3\" class=\"data row65 col3\" >0.781690</td>\n",
              "    </tr>\n",
              "    <tr>\n",
              "      <th id=\"T_6238e_level0_row66\" class=\"row_heading level0 row66\" >66</th>\n",
              "      <td id=\"T_6238e_row66_col0\" class=\"data row66 col0\" >0.000022</td>\n",
              "      <td id=\"T_6238e_row66_col1\" class=\"data row66 col1\" >1.000000</td>\n",
              "      <td id=\"T_6238e_row66_col2\" class=\"data row66 col2\" >1.225877</td>\n",
              "      <td id=\"T_6238e_row66_col3\" class=\"data row66 col3\" >0.781690</td>\n",
              "    </tr>\n",
              "    <tr>\n",
              "      <th id=\"T_6238e_level0_row67\" class=\"row_heading level0 row67\" >67</th>\n",
              "      <td id=\"T_6238e_row67_col0\" class=\"data row67 col0\" >0.000024</td>\n",
              "      <td id=\"T_6238e_row67_col1\" class=\"data row67 col1\" >1.000000</td>\n",
              "      <td id=\"T_6238e_row67_col2\" class=\"data row67 col2\" >1.238082</td>\n",
              "      <td id=\"T_6238e_row67_col3\" class=\"data row67 col3\" >0.774648</td>\n",
              "    </tr>\n",
              "    <tr>\n",
              "      <th id=\"T_6238e_level0_row68\" class=\"row_heading level0 row68\" >68</th>\n",
              "      <td id=\"T_6238e_row68_col0\" class=\"data row68 col0\" >0.000018</td>\n",
              "      <td id=\"T_6238e_row68_col1\" class=\"data row68 col1\" >1.000000</td>\n",
              "      <td id=\"T_6238e_row68_col2\" class=\"data row68 col2\" >1.207972</td>\n",
              "      <td id=\"T_6238e_row68_col3\" class=\"data row68 col3\" >0.781690</td>\n",
              "    </tr>\n",
              "    <tr>\n",
              "      <th id=\"T_6238e_level0_row69\" class=\"row_heading level0 row69\" >69</th>\n",
              "      <td id=\"T_6238e_row69_col0\" class=\"data row69 col0\" >0.000026</td>\n",
              "      <td id=\"T_6238e_row69_col1\" class=\"data row69 col1\" >1.000000</td>\n",
              "      <td id=\"T_6238e_row69_col2\" class=\"data row69 col2\" >1.304912</td>\n",
              "      <td id=\"T_6238e_row69_col3\" class=\"data row69 col3\" >0.774648</td>\n",
              "    </tr>\n",
              "    <tr>\n",
              "      <th id=\"T_6238e_level0_row70\" class=\"row_heading level0 row70\" >70</th>\n",
              "      <td id=\"T_6238e_row70_col0\" class=\"data row70 col0\" >0.000029</td>\n",
              "      <td id=\"T_6238e_row70_col1\" class=\"data row70 col1\" >1.000000</td>\n",
              "      <td id=\"T_6238e_row70_col2\" class=\"data row70 col2\" >1.329534</td>\n",
              "      <td id=\"T_6238e_row70_col3\" class=\"data row70 col3\" >0.774648</td>\n",
              "    </tr>\n",
              "    <tr>\n",
              "      <th id=\"T_6238e_level0_row71\" class=\"row_heading level0 row71\" >71</th>\n",
              "      <td id=\"T_6238e_row71_col0\" class=\"data row71 col0\" >0.000017</td>\n",
              "      <td id=\"T_6238e_row71_col1\" class=\"data row71 col1\" >1.000000</td>\n",
              "      <td id=\"T_6238e_row71_col2\" class=\"data row71 col2\" >1.364216</td>\n",
              "      <td id=\"T_6238e_row71_col3\" class=\"data row71 col3\" >0.774648</td>\n",
              "    </tr>\n",
              "    <tr>\n",
              "      <th id=\"T_6238e_level0_row72\" class=\"row_heading level0 row72\" >72</th>\n",
              "      <td id=\"T_6238e_row72_col0\" class=\"data row72 col0\" >0.000011</td>\n",
              "      <td id=\"T_6238e_row72_col1\" class=\"data row72 col1\" >1.000000</td>\n",
              "      <td id=\"T_6238e_row72_col2\" class=\"data row72 col2\" >1.362718</td>\n",
              "      <td id=\"T_6238e_row72_col3\" class=\"data row72 col3\" >0.774648</td>\n",
              "    </tr>\n",
              "    <tr>\n",
              "      <th id=\"T_6238e_level0_row73\" class=\"row_heading level0 row73\" >73</th>\n",
              "      <td id=\"T_6238e_row73_col0\" class=\"data row73 col0\" >0.000010</td>\n",
              "      <td id=\"T_6238e_row73_col1\" class=\"data row73 col1\" >1.000000</td>\n",
              "      <td id=\"T_6238e_row73_col2\" class=\"data row73 col2\" >1.370185</td>\n",
              "      <td id=\"T_6238e_row73_col3\" class=\"data row73 col3\" >0.774648</td>\n",
              "    </tr>\n",
              "    <tr>\n",
              "      <th id=\"T_6238e_level0_row74\" class=\"row_heading level0 row74\" >74</th>\n",
              "      <td id=\"T_6238e_row74_col0\" class=\"data row74 col0\" >0.000016</td>\n",
              "      <td id=\"T_6238e_row74_col1\" class=\"data row74 col1\" >1.000000</td>\n",
              "      <td id=\"T_6238e_row74_col2\" class=\"data row74 col2\" >1.386480</td>\n",
              "      <td id=\"T_6238e_row74_col3\" class=\"data row74 col3\" >0.767606</td>\n",
              "    </tr>\n",
              "    <tr>\n",
              "      <th id=\"T_6238e_level0_row75\" class=\"row_heading level0 row75\" >75</th>\n",
              "      <td id=\"T_6238e_row75_col0\" class=\"data row75 col0\" >0.000012</td>\n",
              "      <td id=\"T_6238e_row75_col1\" class=\"data row75 col1\" >1.000000</td>\n",
              "      <td id=\"T_6238e_row75_col2\" class=\"data row75 col2\" >1.390058</td>\n",
              "      <td id=\"T_6238e_row75_col3\" class=\"data row75 col3\" >0.767606</td>\n",
              "    </tr>\n",
              "    <tr>\n",
              "      <th id=\"T_6238e_level0_row76\" class=\"row_heading level0 row76\" >76</th>\n",
              "      <td id=\"T_6238e_row76_col0\" class=\"data row76 col0\" >0.000016</td>\n",
              "      <td id=\"T_6238e_row76_col1\" class=\"data row76 col1\" >1.000000</td>\n",
              "      <td id=\"T_6238e_row76_col2\" class=\"data row76 col2\" >1.332935</td>\n",
              "      <td id=\"T_6238e_row76_col3\" class=\"data row76 col3\" >0.767606</td>\n",
              "    </tr>\n",
              "    <tr>\n",
              "      <th id=\"T_6238e_level0_row77\" class=\"row_heading level0 row77\" >77</th>\n",
              "      <td id=\"T_6238e_row77_col0\" class=\"data row77 col0\" >0.000022</td>\n",
              "      <td id=\"T_6238e_row77_col1\" class=\"data row77 col1\" >1.000000</td>\n",
              "      <td id=\"T_6238e_row77_col2\" class=\"data row77 col2\" >1.335719</td>\n",
              "      <td id=\"T_6238e_row77_col3\" class=\"data row77 col3\" >0.767606</td>\n",
              "    </tr>\n",
              "    <tr>\n",
              "      <th id=\"T_6238e_level0_row78\" class=\"row_heading level0 row78\" >78</th>\n",
              "      <td id=\"T_6238e_row78_col0\" class=\"data row78 col0\" >0.000011</td>\n",
              "      <td id=\"T_6238e_row78_col1\" class=\"data row78 col1\" >1.000000</td>\n",
              "      <td id=\"T_6238e_row78_col2\" class=\"data row78 col2\" >1.333995</td>\n",
              "      <td id=\"T_6238e_row78_col3\" class=\"data row78 col3\" >0.774648</td>\n",
              "    </tr>\n",
              "    <tr>\n",
              "      <th id=\"T_6238e_level0_row79\" class=\"row_heading level0 row79\" >79</th>\n",
              "      <td id=\"T_6238e_row79_col0\" class=\"data row79 col0\" >0.000007</td>\n",
              "      <td id=\"T_6238e_row79_col1\" class=\"data row79 col1\" >1.000000</td>\n",
              "      <td id=\"T_6238e_row79_col2\" class=\"data row79 col2\" >1.333049</td>\n",
              "      <td id=\"T_6238e_row79_col3\" class=\"data row79 col3\" >0.774648</td>\n",
              "    </tr>\n",
              "    <tr>\n",
              "      <th id=\"T_6238e_level0_row80\" class=\"row_heading level0 row80\" >80</th>\n",
              "      <td id=\"T_6238e_row80_col0\" class=\"data row80 col0\" >0.000009</td>\n",
              "      <td id=\"T_6238e_row80_col1\" class=\"data row80 col1\" >1.000000</td>\n",
              "      <td id=\"T_6238e_row80_col2\" class=\"data row80 col2\" >1.344024</td>\n",
              "      <td id=\"T_6238e_row80_col3\" class=\"data row80 col3\" >0.774648</td>\n",
              "    </tr>\n",
              "    <tr>\n",
              "      <th id=\"T_6238e_level0_row81\" class=\"row_heading level0 row81\" >81</th>\n",
              "      <td id=\"T_6238e_row81_col0\" class=\"data row81 col0\" >0.000011</td>\n",
              "      <td id=\"T_6238e_row81_col1\" class=\"data row81 col1\" >1.000000</td>\n",
              "      <td id=\"T_6238e_row81_col2\" class=\"data row81 col2\" >1.391031</td>\n",
              "      <td id=\"T_6238e_row81_col3\" class=\"data row81 col3\" >0.760563</td>\n",
              "    </tr>\n",
              "    <tr>\n",
              "      <th id=\"T_6238e_level0_row82\" class=\"row_heading level0 row82\" >82</th>\n",
              "      <td id=\"T_6238e_row82_col0\" class=\"data row82 col0\" >0.000005</td>\n",
              "      <td id=\"T_6238e_row82_col1\" class=\"data row82 col1\" >1.000000</td>\n",
              "      <td id=\"T_6238e_row82_col2\" class=\"data row82 col2\" >1.415278</td>\n",
              "      <td id=\"T_6238e_row82_col3\" class=\"data row82 col3\" >0.760563</td>\n",
              "    </tr>\n",
              "    <tr>\n",
              "      <th id=\"T_6238e_level0_row83\" class=\"row_heading level0 row83\" >83</th>\n",
              "      <td id=\"T_6238e_row83_col0\" class=\"data row83 col0\" >0.007641</td>\n",
              "      <td id=\"T_6238e_row83_col1\" class=\"data row83 col1\" >0.998447</td>\n",
              "      <td id=\"T_6238e_row83_col2\" class=\"data row83 col2\" >3.856885</td>\n",
              "      <td id=\"T_6238e_row83_col3\" class=\"data row83 col3\" >0.669014</td>\n",
              "    </tr>\n",
              "    <tr>\n",
              "      <th id=\"T_6238e_level0_row84\" class=\"row_heading level0 row84\" >84</th>\n",
              "      <td id=\"T_6238e_row84_col0\" class=\"data row84 col0\" >0.274315</td>\n",
              "      <td id=\"T_6238e_row84_col1\" class=\"data row84 col1\" >0.945652</td>\n",
              "      <td id=\"T_6238e_row84_col2\" class=\"data row84 col2\" >9.261936</td>\n",
              "      <td id=\"T_6238e_row84_col3\" class=\"data row84 col3\" >0.556338</td>\n",
              "    </tr>\n",
              "    <tr>\n",
              "      <th id=\"T_6238e_level0_row85\" class=\"row_heading level0 row85\" >85</th>\n",
              "      <td id=\"T_6238e_row85_col0\" class=\"data row85 col0\" >0.103762</td>\n",
              "      <td id=\"T_6238e_row85_col1\" class=\"data row85 col1\" >0.976708</td>\n",
              "      <td id=\"T_6238e_row85_col2\" class=\"data row85 col2\" >1.723395</td>\n",
              "      <td id=\"T_6238e_row85_col3\" class=\"data row85 col3\" >0.676056</td>\n",
              "    </tr>\n",
              "    <tr>\n",
              "      <th id=\"T_6238e_level0_row86\" class=\"row_heading level0 row86\" >86</th>\n",
              "      <td id=\"T_6238e_row86_col0\" class=\"data row86 col0\" >0.014155</td>\n",
              "      <td id=\"T_6238e_row86_col1\" class=\"data row86 col1\" >0.996118</td>\n",
              "      <td id=\"T_6238e_row86_col2\" class=\"data row86 col2\" >1.019328</td>\n",
              "      <td id=\"T_6238e_row86_col3\" class=\"data row86 col3\" >0.767606</td>\n",
              "    </tr>\n",
              "    <tr>\n",
              "      <th id=\"T_6238e_level0_row87\" class=\"row_heading level0 row87\" >87</th>\n",
              "      <td id=\"T_6238e_row87_col0\" class=\"data row87 col0\" >0.011193</td>\n",
              "      <td id=\"T_6238e_row87_col1\" class=\"data row87 col1\" >0.996118</td>\n",
              "      <td id=\"T_6238e_row87_col2\" class=\"data row87 col2\" >0.986194</td>\n",
              "      <td id=\"T_6238e_row87_col3\" class=\"data row87 col3\" >0.767606</td>\n",
              "    </tr>\n",
              "    <tr>\n",
              "      <th id=\"T_6238e_level0_row88\" class=\"row_heading level0 row88\" >88</th>\n",
              "      <td id=\"T_6238e_row88_col0\" class=\"data row88 col0\" >0.016372</td>\n",
              "      <td id=\"T_6238e_row88_col1\" class=\"data row88 col1\" >0.996118</td>\n",
              "      <td id=\"T_6238e_row88_col2\" class=\"data row88 col2\" >1.196491</td>\n",
              "      <td id=\"T_6238e_row88_col3\" class=\"data row88 col3\" >0.802817</td>\n",
              "    </tr>\n",
              "    <tr>\n",
              "      <th id=\"T_6238e_level0_row89\" class=\"row_heading level0 row89\" >89</th>\n",
              "      <td id=\"T_6238e_row89_col0\" class=\"data row89 col0\" >0.010215</td>\n",
              "      <td id=\"T_6238e_row89_col1\" class=\"data row89 col1\" >0.996894</td>\n",
              "      <td id=\"T_6238e_row89_col2\" class=\"data row89 col2\" >0.814778</td>\n",
              "      <td id=\"T_6238e_row89_col3\" class=\"data row89 col3\" >0.802817</td>\n",
              "    </tr>\n",
              "    <tr>\n",
              "      <th id=\"T_6238e_level0_row90\" class=\"row_heading level0 row90\" >90</th>\n",
              "      <td id=\"T_6238e_row90_col0\" class=\"data row90 col0\" >0.003470</td>\n",
              "      <td id=\"T_6238e_row90_col1\" class=\"data row90 col1\" >0.998447</td>\n",
              "      <td id=\"T_6238e_row90_col2\" class=\"data row90 col2\" >1.047066</td>\n",
              "      <td id=\"T_6238e_row90_col3\" class=\"data row90 col3\" >0.816901</td>\n",
              "    </tr>\n",
              "    <tr>\n",
              "      <th id=\"T_6238e_level0_row91\" class=\"row_heading level0 row91\" >91</th>\n",
              "      <td id=\"T_6238e_row91_col0\" class=\"data row91 col0\" >0.001528</td>\n",
              "      <td id=\"T_6238e_row91_col1\" class=\"data row91 col1\" >1.000000</td>\n",
              "      <td id=\"T_6238e_row91_col2\" class=\"data row91 col2\" >1.099411</td>\n",
              "      <td id=\"T_6238e_row91_col3\" class=\"data row91 col3\" >0.767606</td>\n",
              "    </tr>\n",
              "    <tr>\n",
              "      <th id=\"T_6238e_level0_row92\" class=\"row_heading level0 row92\" >92</th>\n",
              "      <td id=\"T_6238e_row92_col0\" class=\"data row92 col0\" >0.000692</td>\n",
              "      <td id=\"T_6238e_row92_col1\" class=\"data row92 col1\" >1.000000</td>\n",
              "      <td id=\"T_6238e_row92_col2\" class=\"data row92 col2\" >1.054468</td>\n",
              "      <td id=\"T_6238e_row92_col3\" class=\"data row92 col3\" >0.781690</td>\n",
              "    </tr>\n",
              "    <tr>\n",
              "      <th id=\"T_6238e_level0_row93\" class=\"row_heading level0 row93\" >93</th>\n",
              "      <td id=\"T_6238e_row93_col0\" class=\"data row93 col0\" >0.000347</td>\n",
              "      <td id=\"T_6238e_row93_col1\" class=\"data row93 col1\" >1.000000</td>\n",
              "      <td id=\"T_6238e_row93_col2\" class=\"data row93 col2\" >1.066365</td>\n",
              "      <td id=\"T_6238e_row93_col3\" class=\"data row93 col3\" >0.781690</td>\n",
              "    </tr>\n",
              "    <tr>\n",
              "      <th id=\"T_6238e_level0_row94\" class=\"row_heading level0 row94\" >94</th>\n",
              "      <td id=\"T_6238e_row94_col0\" class=\"data row94 col0\" >0.000238</td>\n",
              "      <td id=\"T_6238e_row94_col1\" class=\"data row94 col1\" >1.000000</td>\n",
              "      <td id=\"T_6238e_row94_col2\" class=\"data row94 col2\" >1.083232</td>\n",
              "      <td id=\"T_6238e_row94_col3\" class=\"data row94 col3\" >0.767606</td>\n",
              "    </tr>\n",
              "    <tr>\n",
              "      <th id=\"T_6238e_level0_row95\" class=\"row_heading level0 row95\" >95</th>\n",
              "      <td id=\"T_6238e_row95_col0\" class=\"data row95 col0\" >0.004022</td>\n",
              "      <td id=\"T_6238e_row95_col1\" class=\"data row95 col1\" >0.997671</td>\n",
              "      <td id=\"T_6238e_row95_col2\" class=\"data row95 col2\" >0.664622</td>\n",
              "      <td id=\"T_6238e_row95_col3\" class=\"data row95 col3\" >0.880282</td>\n",
              "    </tr>\n",
              "    <tr>\n",
              "      <th id=\"T_6238e_level0_row96\" class=\"row_heading level0 row96\" >96</th>\n",
              "      <td id=\"T_6238e_row96_col0\" class=\"data row96 col0\" >0.000843</td>\n",
              "      <td id=\"T_6238e_row96_col1\" class=\"data row96 col1\" >1.000000</td>\n",
              "      <td id=\"T_6238e_row96_col2\" class=\"data row96 col2\" >0.678424</td>\n",
              "      <td id=\"T_6238e_row96_col3\" class=\"data row96 col3\" >0.859155</td>\n",
              "    </tr>\n",
              "    <tr>\n",
              "      <th id=\"T_6238e_level0_row97\" class=\"row_heading level0 row97\" >97</th>\n",
              "      <td id=\"T_6238e_row97_col0\" class=\"data row97 col0\" >0.000760</td>\n",
              "      <td id=\"T_6238e_row97_col1\" class=\"data row97 col1\" >1.000000</td>\n",
              "      <td id=\"T_6238e_row97_col2\" class=\"data row97 col2\" >0.839474</td>\n",
              "      <td id=\"T_6238e_row97_col3\" class=\"data row97 col3\" >0.845070</td>\n",
              "    </tr>\n",
              "    <tr>\n",
              "      <th id=\"T_6238e_level0_row98\" class=\"row_heading level0 row98\" >98</th>\n",
              "      <td id=\"T_6238e_row98_col0\" class=\"data row98 col0\" >0.000220</td>\n",
              "      <td id=\"T_6238e_row98_col1\" class=\"data row98 col1\" >1.000000</td>\n",
              "      <td id=\"T_6238e_row98_col2\" class=\"data row98 col2\" >0.808953</td>\n",
              "      <td id=\"T_6238e_row98_col3\" class=\"data row98 col3\" >0.845070</td>\n",
              "    </tr>\n",
              "    <tr>\n",
              "      <th id=\"T_6238e_level0_row99\" class=\"row_heading level0 row99\" >99</th>\n",
              "      <td id=\"T_6238e_row99_col0\" class=\"data row99 col0\" >0.000070</td>\n",
              "      <td id=\"T_6238e_row99_col1\" class=\"data row99 col1\" >1.000000</td>\n",
              "      <td id=\"T_6238e_row99_col2\" class=\"data row99 col2\" >0.848431</td>\n",
              "      <td id=\"T_6238e_row99_col3\" class=\"data row99 col3\" >0.845070</td>\n",
              "    </tr>\n",
              "  </tbody>\n",
              "</table>\n"
            ]
          },
          "metadata": {},
          "execution_count": 22
        }
      ],
      "source": [
        "# wrap metrics training into dataframe\n",
        "metrics_mouth = pd.DataFrame(history_mouth.history)\n",
        "\n",
        "result_style = metrics_mouth.style.highlight_max(axis=0, props='background-color:#90B77D;', subset=['acc','val_acc']).highlight_min(axis=0, props='background-color:#EE6983;', subset=['loss','val_loss'])\n",
        "result_style"
      ]
    },
    {
      "cell_type": "code",
      "execution_count": null,
      "metadata": {
        "colab": {
          "base_uri": "https://localhost:8080/",
          "height": 300
        },
        "id": "RYQ9J7StqjxA",
        "outputId": "27b6a1f0-9880-40b6-e450-a967add0ae63"
      },
      "outputs": [
        {
          "output_type": "execute_result",
          "data": {
            "text/plain": [
              "<pandas.io.formats.style.Styler at 0x7f5df43a8210>"
            ],
            "text/html": [
              "<style type=\"text/css\">\n",
              "#T_445be_row3_col0, #T_445be_row3_col2 {\n",
              "  background-color: #EE6983;\n",
              "}\n",
              "#T_445be_row5_col1, #T_445be_row6_col1, #T_445be_row7_col1, #T_445be_row7_col3 {\n",
              "  background-color: #90B77D;\n",
              "}\n",
              "</style>\n",
              "<table id=\"T_445be_\" class=\"dataframe\">\n",
              "  <thead>\n",
              "    <tr>\n",
              "      <th class=\"blank level0\" >&nbsp;</th>\n",
              "      <th class=\"col_heading level0 col0\" >loss</th>\n",
              "      <th class=\"col_heading level0 col1\" >acc</th>\n",
              "      <th class=\"col_heading level0 col2\" >val_loss</th>\n",
              "      <th class=\"col_heading level0 col3\" >val_acc</th>\n",
              "    </tr>\n",
              "  </thead>\n",
              "  <tbody>\n",
              "    <tr>\n",
              "      <th id=\"T_445be_level0_row0\" class=\"row_heading level0 row0\" >count</th>\n",
              "      <td id=\"T_445be_row0_col0\" class=\"data row0 col0\" >100.000000</td>\n",
              "      <td id=\"T_445be_row0_col1\" class=\"data row0 col1\" >100.000000</td>\n",
              "      <td id=\"T_445be_row0_col2\" class=\"data row0 col2\" >100.000000</td>\n",
              "      <td id=\"T_445be_row0_col3\" class=\"data row0 col3\" >100.000000</td>\n",
              "    </tr>\n",
              "    <tr>\n",
              "      <th id=\"T_445be_level0_row1\" class=\"row_heading level0 row1\" >mean</th>\n",
              "      <td id=\"T_445be_row1_col0\" class=\"data row1 col0\" >0.028212</td>\n",
              "      <td id=\"T_445be_row1_col1\" class=\"data row1 col1\" >0.989984</td>\n",
              "      <td id=\"T_445be_row1_col2\" class=\"data row1 col2\" >1.363645</td>\n",
              "      <td id=\"T_445be_row1_col3\" class=\"data row1 col3\" >0.760986</td>\n",
              "    </tr>\n",
              "    <tr>\n",
              "      <th id=\"T_445be_level0_row2\" class=\"row_heading level0 row2\" >std</th>\n",
              "      <td id=\"T_445be_row2_col0\" class=\"data row2 col0\" >0.090265</td>\n",
              "      <td id=\"T_445be_row2_col1\" class=\"data row2 col1\" >0.037533</td>\n",
              "      <td id=\"T_445be_row2_col2\" class=\"data row2 col2\" >0.888571</td>\n",
              "      <td id=\"T_445be_row2_col3\" class=\"data row2 col3\" >0.068269</td>\n",
              "    </tr>\n",
              "    <tr>\n",
              "      <th id=\"T_445be_level0_row3\" class=\"row_heading level0 row3\" >min</th>\n",
              "      <td id=\"T_445be_row3_col0\" class=\"data row3 col0\" >0.000005</td>\n",
              "      <td id=\"T_445be_row3_col1\" class=\"data row3 col1\" >0.692547</td>\n",
              "      <td id=\"T_445be_row3_col2\" class=\"data row3 col2\" >0.664622</td>\n",
              "      <td id=\"T_445be_row3_col3\" class=\"data row3 col3\" >0.492958</td>\n",
              "    </tr>\n",
              "    <tr>\n",
              "      <th id=\"T_445be_level0_row4\" class=\"row_heading level0 row4\" >25%</th>\n",
              "      <td id=\"T_445be_row4_col0\" class=\"data row4 col0\" >0.000029</td>\n",
              "      <td id=\"T_445be_row4_col1\" class=\"data row4 col1\" >0.996700</td>\n",
              "      <td id=\"T_445be_row4_col2\" class=\"data row4 col2\" >1.076694</td>\n",
              "      <td id=\"T_445be_row4_col3\" class=\"data row4 col3\" >0.760563</td>\n",
              "    </tr>\n",
              "    <tr>\n",
              "      <th id=\"T_445be_level0_row5\" class=\"row_heading level0 row5\" >50%</th>\n",
              "      <td id=\"T_445be_row5_col0\" class=\"data row5 col0\" >0.000218</td>\n",
              "      <td id=\"T_445be_row5_col1\" class=\"data row5 col1\" >1.000000</td>\n",
              "      <td id=\"T_445be_row5_col2\" class=\"data row5 col2\" >1.216919</td>\n",
              "      <td id=\"T_445be_row5_col3\" class=\"data row5 col3\" >0.774648</td>\n",
              "    </tr>\n",
              "    <tr>\n",
              "      <th id=\"T_445be_level0_row6\" class=\"row_heading level0 row6\" >75%</th>\n",
              "      <td id=\"T_445be_row6_col0\" class=\"data row6 col0\" >0.010245</td>\n",
              "      <td id=\"T_445be_row6_col1\" class=\"data row6 col1\" >1.000000</td>\n",
              "      <td id=\"T_445be_row6_col2\" class=\"data row6 col2\" >1.418812</td>\n",
              "      <td id=\"T_445be_row6_col3\" class=\"data row6 col3\" >0.783451</td>\n",
              "    </tr>\n",
              "    <tr>\n",
              "      <th id=\"T_445be_level0_row7\" class=\"row_heading level0 row7\" >max</th>\n",
              "      <td id=\"T_445be_row7_col0\" class=\"data row7 col0\" >0.691767</td>\n",
              "      <td id=\"T_445be_row7_col1\" class=\"data row7 col1\" >1.000000</td>\n",
              "      <td id=\"T_445be_row7_col2\" class=\"data row7 col2\" >9.261936</td>\n",
              "      <td id=\"T_445be_row7_col3\" class=\"data row7 col3\" >0.880282</td>\n",
              "    </tr>\n",
              "  </tbody>\n",
              "</table>\n"
            ]
          },
          "metadata": {},
          "execution_count": 23
        }
      ],
      "source": [
        "# get statistic information\n",
        "\n",
        "idx = list(metrics_mouth.describe().index.get_level_values(0))\n",
        "_ls = lambda x : (idx[1:], x)\n",
        "\n",
        "metrics_mouth.describe().style.highlight_max(axis=0, props='background-color:#90B77D;', subset = _ls(['acc','val_acc'])).highlight_min(axis=0, props='background-color:#EE6983;', subset = _ls(['loss','val_loss']))"
      ]
    },
    {
      "cell_type": "code",
      "execution_count": null,
      "metadata": {
        "id": "SOLf-n33qbTp"
      },
      "outputs": [],
      "source": [
        "# save metrics into xlsx\n",
        "result_style.to_excel('metrics_mouth.xlsx', engine='openpyxl')"
      ]
    },
    {
      "cell_type": "code",
      "execution_count": null,
      "metadata": {
        "colab": {
          "base_uri": "https://localhost:8080/",
          "height": 337
        },
        "id": "76ZODJhKQhZ0",
        "outputId": "be9656de-73fc-45c8-a64d-0ef391e9dcee"
      },
      "outputs": [
        {
          "output_type": "display_data",
          "data": {
            "text/plain": [
              "<Figure size 1440x360 with 2 Axes>"
            ],
            "image/png": "[encoded data removed]"
          },
          "metadata": {}
        }
      ],
      "source": [
        "# visualize training model evaluation\n",
        "plt.style.use(\"ggplot\")\n",
        "fig, ax = plt.subplots(1, 2, figsize = (20, 5))\n",
        "\n",
        "index = list(range(len(history_mouth.history['loss'])))\n",
        "\n",
        "ax[0].plot(history_mouth.history['loss'], label = f\"Train\")\n",
        "ax[0].plot(history_mouth.history['val_loss'], label = f\"Validation\")\n",
        "ax[0].scatter(index, history_mouth.history['loss'])\n",
        "ax[0].scatter(index, history_mouth.history['val_loss'])\n",
        "ax[0].legend()\n",
        "ax[0].set_title(\"Loss Visualisation\")\n",
        "\n",
        "ax[1].plot(history_mouth.history['acc'], label = f\"Train\")\n",
        "ax[1].plot(history_mouth.history['val_acc'], label = f\"Validation\")\n",
        "ax[1].scatter(index, history_mouth.history['acc'])\n",
        "ax[1].scatter(index, history_mouth.history['val_acc'])\n",
        "ax[1].legend()\n",
        "ax[1].set_title(\"Accuracy Visualisation\")\n",
        "\n",
        "plt.show()"
      ]
    },
    {
      "cell_type": "code",
      "execution_count": null,
      "metadata": {
        "id": "QFp8MM6vtgL6"
      },
      "outputs": [],
      "source": [
        "# save model\n",
        "model_mouth.save(\"model_cnn_mouth.h5\")"
      ]
    },
    {
      "cell_type": "code",
      "execution_count": null,
      "metadata": {
        "colab": {
          "base_uri": "https://localhost:8080/"
        },
        "id": "bVDoqVe-Qhip",
        "outputId": "6a42fff7-9e57-410f-a3e1-b695052d5dbc"
      },
      "outputs": [
        {
          "output_type": "stream",
          "name": "stdout",
          "text": [
            "9/9 [==============================] - 1s 105ms/step - loss: 0.8484 - acc: 0.8451\n",
            "Validation Accuracy >>> 0.8450704216957092\n",
            "Validation Loss     >>> 0.8484307527542114\n"
          ]
        }
      ],
      "source": [
        "# model evaluation based on evaluate function\n",
        "_loss, _acc = model_mouth.evaluate(test_set)\n",
        "print(\"Validation Accuracy >>>\", _acc)\n",
        "print(\"Validation Loss     >>>\", _loss)"
      ]
    },
    {
      "cell_type": "code",
      "source": [
        "# model evaluation based on classification_report and confusion_matrix scoring.\n",
        "metrics_mouth = Metrics(model = model_mouth, data_generator = test_set)"
      ],
      "metadata": {
        "id": "3tGl4T5SsqA_"
      },
      "execution_count": null,
      "outputs": []
    },
    {
      "cell_type": "code",
      "source": [
        "metrics_mouth.generate_class_report()"
      ],
      "metadata": {
        "colab": {
          "base_uri": "https://localhost:8080/"
        },
        "id": "vFRvZsk-syMv",
        "outputId": "a626ae12-cd89-4659-f39e-030f6cb9875b"
      },
      "execution_count": null,
      "outputs": [
        {
          "output_type": "stream",
          "name": "stdout",
          "text": [
            "              precision    recall  f1-score   support\n",
            "\n",
            "           0       0.98      0.94      0.96        65\n",
            "           1       0.95      0.99      0.97        77\n",
            "\n",
            "    accuracy                           0.96       142\n",
            "   macro avg       0.97      0.96      0.96       142\n",
            "weighted avg       0.97      0.96      0.96       142\n",
            "\n"
          ]
        }
      ]
    },
    {
      "cell_type": "code",
      "source": [
        "metrics_mouth.generate_confusion_matrix()"
      ],
      "metadata": {
        "colab": {
          "base_uri": "https://localhost:8080/",
          "height": 265
        },
        "id": "lBDGDRDts6I2",
        "outputId": "fe1725ce-4a00-4a1a-ec66-720013d01ea3"
      },
      "execution_count": null,
      "outputs": [
        {
          "output_type": "display_data",
          "data": {
            "text/plain": [
              "<Figure size 432x288 with 2 Axes>"
            ],
            "image/png": "[encoded data removed]"
          },
          "metadata": {}
        }
      ]
    },
    {
      "cell_type": "markdown",
      "metadata": {
        "id": "Ku2Vzqo5uqmt"
      },
      "source": [
        "## 2.2. Eyes Detection (Open / Closed)"
      ]
    },
    {
      "cell_type": "code",
      "execution_count": null,
      "metadata": {
        "id": "Du9i6jAItyXR",
        "colab": {
          "base_uri": "https://localhost:8080/",
          "height": 183
        },
        "outputId": "33b74328-345e-49a1-c14e-edcffabb3f84"
      },
      "outputs": [
        {
          "output_type": "error",
          "ename": "FileNotFoundError",
          "evalue": "ignored",
          "traceback": [
            "\u001b[0;31m---------------------------------------------------------------------------\u001b[0m",
            "\u001b[0;31mFileNotFoundError\u001b[0m                         Traceback (most recent call last)",
            "\u001b[0;32m<ipython-input-32-96351ffed0cc>\u001b[0m in \u001b[0;36m<module>\u001b[0;34m\u001b[0m\n\u001b[1;32m      1\u001b[0m \u001b[0;31m# change directory\u001b[0m\u001b[0;34m\u001b[0m\u001b[0;34m\u001b[0m\u001b[0;34m\u001b[0m\u001b[0m\n\u001b[0;32m----> 2\u001b[0;31m \u001b[0mos\u001b[0m\u001b[0;34m.\u001b[0m\u001b[0mchdir\u001b[0m\u001b[0;34m(\u001b[0m\u001b[0;34m\"filtered_dataset\"\u001b[0m\u001b[0;34m)\u001b[0m\u001b[0;34m\u001b[0m\u001b[0;34m\u001b[0m\u001b[0m\n\u001b[0m",
            "\u001b[0;31mFileNotFoundError\u001b[0m: [Errno 2] No such file or directory: 'filtered_dataset'"
          ]
        }
      ],
      "source": [
        "# change directory\n",
        "os.chdir(\"filtered_dataset\")"
      ]
    },
    {
      "cell_type": "code",
      "execution_count": null,
      "metadata": {
        "colab": {
          "base_uri": "https://localhost:8080/"
        },
        "id": "Z5HrMF8JMdzT",
        "outputId": "adaede4d-1054-40ee-dd99-22cf89490686"
      },
      "outputs": [
        {
          "output_type": "execute_result",
          "data": {
            "text/plain": [
              "['Open_Eyes', 'Closed_Eyes']"
            ]
          },
          "metadata": {},
          "execution_count": 33
        }
      ],
      "source": [
        "# check list directory\n",
        "os.listdir(\"eye\")"
      ]
    },
    {
      "cell_type": "code",
      "execution_count": null,
      "metadata": {
        "id": "oFcHS3AsMd2H"
      },
      "outputs": [],
      "source": [
        "# define variable\n",
        "DIRECTORY  = \"eye\"\n",
        "BATCH_SIZE = 32\n",
        "EPOCHS     = 100"
      ]
    },
    {
      "cell_type": "code",
      "execution_count": null,
      "metadata": {
        "id": "1ES6DTwBMd46"
      },
      "outputs": [],
      "source": [
        "# define image data generator \n",
        "image_generator = ImageDataGenerator(\n",
        "    validation_split = 0.1,\n",
        "    rescale = 1 / 255,\n",
        ")"
      ]
    },
    {
      "cell_type": "code",
      "execution_count": null,
      "metadata": {
        "colab": {
          "base_uri": "https://localhost:8080/"
        },
        "id": "CLmtgPCIMd7s",
        "outputId": "46df8e2c-3f7f-4a6a-de7e-b5b80cf5ad40"
      },
      "outputs": [
        {
          "output_type": "stream",
          "name": "stdout",
          "text": [
            "Found 1552 images belonging to 2 classes.\n",
            "Found 172 images belonging to 2 classes.\n"
          ]
        }
      ],
      "source": [
        "# apply image generator\n",
        "train_set = image_generator.flow_from_directory( \n",
        "    DIRECTORY,\n",
        "    class_mode = \"categorical\", batch_size = BATCH_SIZE, \n",
        "    subset = \"training\", target_size = (224, 224), \n",
        "    color_mode = \"grayscale\"\n",
        ")\n",
        "test_set = image_generator.flow_from_directory( \n",
        "    DIRECTORY, \n",
        "    class_mode = \"categorical\", batch_size = BATCH_SIZE,\n",
        "    subset = \"validation\", target_size = (224, 224), \n",
        "    color_mode = \"grayscale\" \n",
        ")"
      ]
    },
    {
      "cell_type": "code",
      "execution_count": null,
      "metadata": {
        "id": "UlvaD08OMd-0"
      },
      "outputs": [],
      "source": [
        "# create CNN architecture for binary classification\n",
        "\n",
        "def build_model_eye():\n",
        "\n",
        "  model = Sequential()\n",
        "\n",
        "  model.add(Conv2D(filters=16, kernel_size=2, padding='same', activation='relu', input_shape=(224,224,1), kernel_initializer='he_uniform'))\n",
        "  model.add(MaxPool2D(pool_size=2))\n",
        "  model.add(BatchNormalization())\n",
        "\n",
        "  model.add(Conv2D(filters=32, kernel_size=2, padding='same', activation='relu', kernel_initializer='he_uniform'))\n",
        "  model.add(MaxPool2D(pool_size=2))\n",
        "  model.add(BatchNormalization())\n",
        "\n",
        "  model.add(Conv2D(filters=64, kernel_size=2, padding='same', activation='relu', kernel_initializer='he_uniform'))\n",
        "  model.add(MaxPool2D(pool_size=2))\n",
        "  model.add(BatchNormalization())\n",
        "\n",
        "  model.add(Flatten())\n",
        "\n",
        "  model.add(Dropout(0.3))\n",
        "  model.add(Dense(128, kernel_initializer = \"he_uniform\", activation = \"relu\"))\n",
        "  model.add(Dense(2, activation = \"softmax\"))\n",
        "\n",
        "  model.compile(optimizer = \"adam\", loss = \"categorical_crossentropy\", metrics = ['acc'])\n",
        "\n",
        "  return model "
      ]
    },
    {
      "cell_type": "code",
      "execution_count": null,
      "metadata": {
        "id": "OUNRRftrMeB3"
      },
      "outputs": [],
      "source": [
        "# inherit model CNN pre-defined above\n",
        "model_eye = build_model_eye()"
      ]
    },
    {
      "cell_type": "code",
      "execution_count": null,
      "metadata": {
        "colab": {
          "base_uri": "https://localhost:8080/"
        },
        "id": "YlMd4KLfMeHS",
        "outputId": "7bb68cd4-8e06-4693-f82a-400ef08a3fd1"
      },
      "outputs": [
        {
          "output_type": "stream",
          "name": "stdout",
          "text": [
            "Model: \"sequential_1\"\n",
            "_________________________________________________________________\n",
            " Layer (type)                Output Shape              Param #   \n",
            "=================================================================\n",
            " conv2d_5 (Conv2D)           (None, 224, 224, 16)      80        \n",
            "                                                                 \n",
            " max_pooling2d_5 (MaxPooling  (None, 112, 112, 16)     0         \n",
            " 2D)                                                             \n",
            "                                                                 \n",
            " batch_normalization_5 (Batc  (None, 112, 112, 16)     64        \n",
            " hNormalization)                                                 \n",
            "                                                                 \n",
            " conv2d_6 (Conv2D)           (None, 112, 112, 32)      2080      \n",
            "                                                                 \n",
            " max_pooling2d_6 (MaxPooling  (None, 56, 56, 32)       0         \n",
            " 2D)                                                             \n",
            "                                                                 \n",
            " batch_normalization_6 (Batc  (None, 56, 56, 32)       128       \n",
            " hNormalization)                                                 \n",
            "                                                                 \n",
            " conv2d_7 (Conv2D)           (None, 56, 56, 64)        8256      \n",
            "                                                                 \n",
            " max_pooling2d_7 (MaxPooling  (None, 28, 28, 64)       0         \n",
            " 2D)                                                             \n",
            "                                                                 \n",
            " batch_normalization_7 (Batc  (None, 28, 28, 64)       256       \n",
            " hNormalization)                                                 \n",
            "                                                                 \n",
            " flatten_1 (Flatten)         (None, 50176)             0         \n",
            "                                                                 \n",
            " dropout_1 (Dropout)         (None, 50176)             0         \n",
            "                                                                 \n",
            " dense_2 (Dense)             (None, 128)               6422656   \n",
            "                                                                 \n",
            " dense_3 (Dense)             (None, 2)                 258       \n",
            "                                                                 \n",
            "=================================================================\n",
            "Total params: 6,433,778\n",
            "Trainable params: 6,433,554\n",
            "Non-trainable params: 224\n",
            "_________________________________________________________________\n",
            "None\n"
          ]
        }
      ],
      "source": [
        "# overview model architecture \n",
        "print(model_eye.summary())"
      ]
    },
    {
      "cell_type": "code",
      "execution_count": null,
      "metadata": {
        "colab": {
          "base_uri": "https://localhost:8080/",
          "height": 1000
        },
        "id": "aks7fjSQM8yx",
        "outputId": "8e00e8cd-3ec7-4e79-bbb8-c9b4c3a51b41"
      },
      "outputs": [
        {
          "output_type": "execute_result",
          "data": {
            "image/png": "[encoded data removed]",
            "text/plain": [
              "<IPython.core.display.Image object>"
            ]
          },
          "metadata": {},
          "execution_count": 40
        }
      ],
      "source": [
        "# visualize model architecture\n",
        "plot_model(model_eye)"
      ]
    },
    {
      "cell_type": "code",
      "execution_count": null,
      "metadata": {
        "id": "c8fcG602M86z"
      },
      "outputs": [],
      "source": [
        "# define callbacks to stop iteration\n",
        "class CustomCallbacks(Callback):\n",
        "  def __init__(self, threshold = 0.9):\n",
        "    super(CustomCallbacks, self).__init__() \n",
        "    self.threshold = threshold \n",
        "  def on_epoch_end(self, epoch, logs = None, monitor = \"val_acc\"):\n",
        "    val_acc = logs[monitor]\n",
        "    if val_acc >= self.threshold: \n",
        "      self.model.stop_training = True"
      ]
    },
    {
      "cell_type": "code",
      "execution_count": null,
      "metadata": {
        "colab": {
          "base_uri": "https://localhost:8080/"
        },
        "id": "QJLwsKaxM9BY",
        "outputId": "f471938c-7841-4d88-d7f8-2b524e592930"
      },
      "outputs": [
        {
          "output_type": "stream",
          "name": "stdout",
          "text": [
            "Epoch 1/100\n",
            "49/49 [==============================] - 632s 13s/step - loss: 1.7834 - acc: 0.9227 - val_loss: 2.8261 - val_acc: 0.5058\n",
            "Epoch 2/100\n",
            "49/49 [==============================] - 3s 64ms/step - loss: 0.0464 - acc: 0.9878 - val_loss: 2.7947 - val_acc: 0.5058\n",
            "Epoch 3/100\n",
            "49/49 [==============================] - 3s 63ms/step - loss: 0.0189 - acc: 0.9955 - val_loss: 1.7671 - val_acc: 0.5058\n",
            "Epoch 4/100\n",
            "49/49 [==============================] - 3s 63ms/step - loss: 0.0013 - acc: 1.0000 - val_loss: 2.5756 - val_acc: 0.5058\n",
            "Epoch 5/100\n",
            "49/49 [==============================] - 3s 64ms/step - loss: 0.0063 - acc: 0.9974 - val_loss: 1.7319 - val_acc: 0.5058\n",
            "Epoch 6/100\n",
            "49/49 [==============================] - 3s 63ms/step - loss: 0.0021 - acc: 0.9994 - val_loss: 1.4177 - val_acc: 0.5058\n",
            "Epoch 7/100\n",
            "49/49 [==============================] - 3s 64ms/step - loss: 0.0015 - acc: 1.0000 - val_loss: 0.7231 - val_acc: 0.6977\n",
            "Epoch 8/100\n",
            "49/49 [==============================] - 3s 64ms/step - loss: 4.7665e-04 - acc: 1.0000 - val_loss: 0.9526 - val_acc: 0.6163\n",
            "Epoch 9/100\n",
            "49/49 [==============================] - 3s 63ms/step - loss: 3.0396e-04 - acc: 1.0000 - val_loss: 0.5207 - val_acc: 0.8721\n",
            "Epoch 10/100\n",
            "49/49 [==============================] - 3s 64ms/step - loss: 2.0636e-04 - acc: 1.0000 - val_loss: 0.5406 - val_acc: 0.8605\n",
            "Epoch 11/100\n",
            "49/49 [==============================] - 3s 64ms/step - loss: 2.8827e-04 - acc: 1.0000 - val_loss: 0.3890 - val_acc: 0.9070\n"
          ]
        }
      ],
      "source": [
        "# training model\n",
        "history_eye = model_eye.fit(\n",
        "    train_set, \n",
        "    epochs = EPOCHS, \n",
        "    validation_data = test_set, \n",
        "    verbose = 1,\n",
        "    callbacks = [CustomCallbacks()]\n",
        ")"
      ]
    },
    {
      "cell_type": "code",
      "execution_count": null,
      "metadata": {
        "colab": {
          "base_uri": "https://localhost:8080/",
          "height": 394
        },
        "id": "gyt5cUW4NIWA",
        "outputId": "855d0f6a-0ecf-42c5-9752-fdc5e9edfddf"
      },
      "outputs": [
        {
          "output_type": "execute_result",
          "data": {
            "text/plain": [
              "<pandas.io.formats.style.Styler at 0x7f5cd9d4e090>"
            ],
            "text/html": [
              "<style type=\"text/css\">\n",
              "#T_4a286_row3_col1, #T_4a286_row6_col1, #T_4a286_row7_col1, #T_4a286_row8_col1, #T_4a286_row9_col1, #T_4a286_row10_col1, #T_4a286_row10_col3 {\n",
              "  background-color: #90B77D;\n",
              "}\n",
              "#T_4a286_row9_col0, #T_4a286_row10_col2 {\n",
              "  background-color: #EE6983;\n",
              "}\n",
              "</style>\n",
              "<table id=\"T_4a286_\" class=\"dataframe\">\n",
              "  <thead>\n",
              "    <tr>\n",
              "      <th class=\"blank level0\" >&nbsp;</th>\n",
              "      <th class=\"col_heading level0 col0\" >loss</th>\n",
              "      <th class=\"col_heading level0 col1\" >acc</th>\n",
              "      <th class=\"col_heading level0 col2\" >val_loss</th>\n",
              "      <th class=\"col_heading level0 col3\" >val_acc</th>\n",
              "    </tr>\n",
              "  </thead>\n",
              "  <tbody>\n",
              "    <tr>\n",
              "      <th id=\"T_4a286_level0_row0\" class=\"row_heading level0 row0\" >0</th>\n",
              "      <td id=\"T_4a286_row0_col0\" class=\"data row0 col0\" >1.783383</td>\n",
              "      <td id=\"T_4a286_row0_col1\" class=\"data row0 col1\" >0.922680</td>\n",
              "      <td id=\"T_4a286_row0_col2\" class=\"data row0 col2\" >2.826095</td>\n",
              "      <td id=\"T_4a286_row0_col3\" class=\"data row0 col3\" >0.505814</td>\n",
              "    </tr>\n",
              "    <tr>\n",
              "      <th id=\"T_4a286_level0_row1\" class=\"row_heading level0 row1\" >1</th>\n",
              "      <td id=\"T_4a286_row1_col0\" class=\"data row1 col0\" >0.046406</td>\n",
              "      <td id=\"T_4a286_row1_col1\" class=\"data row1 col1\" >0.987758</td>\n",
              "      <td id=\"T_4a286_row1_col2\" class=\"data row1 col2\" >2.794713</td>\n",
              "      <td id=\"T_4a286_row1_col3\" class=\"data row1 col3\" >0.505814</td>\n",
              "    </tr>\n",
              "    <tr>\n",
              "      <th id=\"T_4a286_level0_row2\" class=\"row_heading level0 row2\" >2</th>\n",
              "      <td id=\"T_4a286_row2_col0\" class=\"data row2 col0\" >0.018861</td>\n",
              "      <td id=\"T_4a286_row2_col1\" class=\"data row2 col1\" >0.995490</td>\n",
              "      <td id=\"T_4a286_row2_col2\" class=\"data row2 col2\" >1.767140</td>\n",
              "      <td id=\"T_4a286_row2_col3\" class=\"data row2 col3\" >0.505814</td>\n",
              "    </tr>\n",
              "    <tr>\n",
              "      <th id=\"T_4a286_level0_row3\" class=\"row_heading level0 row3\" >3</th>\n",
              "      <td id=\"T_4a286_row3_col0\" class=\"data row3 col0\" >0.001286</td>\n",
              "      <td id=\"T_4a286_row3_col1\" class=\"data row3 col1\" >1.000000</td>\n",
              "      <td id=\"T_4a286_row3_col2\" class=\"data row3 col2\" >2.575634</td>\n",
              "      <td id=\"T_4a286_row3_col3\" class=\"data row3 col3\" >0.505814</td>\n",
              "    </tr>\n",
              "    <tr>\n",
              "      <th id=\"T_4a286_level0_row4\" class=\"row_heading level0 row4\" >4</th>\n",
              "      <td id=\"T_4a286_row4_col0\" class=\"data row4 col0\" >0.006292</td>\n",
              "      <td id=\"T_4a286_row4_col1\" class=\"data row4 col1\" >0.997423</td>\n",
              "      <td id=\"T_4a286_row4_col2\" class=\"data row4 col2\" >1.731883</td>\n",
              "      <td id=\"T_4a286_row4_col3\" class=\"data row4 col3\" >0.505814</td>\n",
              "    </tr>\n",
              "    <tr>\n",
              "      <th id=\"T_4a286_level0_row5\" class=\"row_heading level0 row5\" >5</th>\n",
              "      <td id=\"T_4a286_row5_col0\" class=\"data row5 col0\" >0.002062</td>\n",
              "      <td id=\"T_4a286_row5_col1\" class=\"data row5 col1\" >0.999356</td>\n",
              "      <td id=\"T_4a286_row5_col2\" class=\"data row5 col2\" >1.417651</td>\n",
              "      <td id=\"T_4a286_row5_col3\" class=\"data row5 col3\" >0.505814</td>\n",
              "    </tr>\n",
              "    <tr>\n",
              "      <th id=\"T_4a286_level0_row6\" class=\"row_heading level0 row6\" >6</th>\n",
              "      <td id=\"T_4a286_row6_col0\" class=\"data row6 col0\" >0.001505</td>\n",
              "      <td id=\"T_4a286_row6_col1\" class=\"data row6 col1\" >1.000000</td>\n",
              "      <td id=\"T_4a286_row6_col2\" class=\"data row6 col2\" >0.723101</td>\n",
              "      <td id=\"T_4a286_row6_col3\" class=\"data row6 col3\" >0.697674</td>\n",
              "    </tr>\n",
              "    <tr>\n",
              "      <th id=\"T_4a286_level0_row7\" class=\"row_heading level0 row7\" >7</th>\n",
              "      <td id=\"T_4a286_row7_col0\" class=\"data row7 col0\" >0.000477</td>\n",
              "      <td id=\"T_4a286_row7_col1\" class=\"data row7 col1\" >1.000000</td>\n",
              "      <td id=\"T_4a286_row7_col2\" class=\"data row7 col2\" >0.952633</td>\n",
              "      <td id=\"T_4a286_row7_col3\" class=\"data row7 col3\" >0.616279</td>\n",
              "    </tr>\n",
              "    <tr>\n",
              "      <th id=\"T_4a286_level0_row8\" class=\"row_heading level0 row8\" >8</th>\n",
              "      <td id=\"T_4a286_row8_col0\" class=\"data row8 col0\" >0.000304</td>\n",
              "      <td id=\"T_4a286_row8_col1\" class=\"data row8 col1\" >1.000000</td>\n",
              "      <td id=\"T_4a286_row8_col2\" class=\"data row8 col2\" >0.520710</td>\n",
              "      <td id=\"T_4a286_row8_col3\" class=\"data row8 col3\" >0.872093</td>\n",
              "    </tr>\n",
              "    <tr>\n",
              "      <th id=\"T_4a286_level0_row9\" class=\"row_heading level0 row9\" >9</th>\n",
              "      <td id=\"T_4a286_row9_col0\" class=\"data row9 col0\" >0.000206</td>\n",
              "      <td id=\"T_4a286_row9_col1\" class=\"data row9 col1\" >1.000000</td>\n",
              "      <td id=\"T_4a286_row9_col2\" class=\"data row9 col2\" >0.540565</td>\n",
              "      <td id=\"T_4a286_row9_col3\" class=\"data row9 col3\" >0.860465</td>\n",
              "    </tr>\n",
              "    <tr>\n",
              "      <th id=\"T_4a286_level0_row10\" class=\"row_heading level0 row10\" >10</th>\n",
              "      <td id=\"T_4a286_row10_col0\" class=\"data row10 col0\" >0.000288</td>\n",
              "      <td id=\"T_4a286_row10_col1\" class=\"data row10 col1\" >1.000000</td>\n",
              "      <td id=\"T_4a286_row10_col2\" class=\"data row10 col2\" >0.389037</td>\n",
              "      <td id=\"T_4a286_row10_col3\" class=\"data row10 col3\" >0.906977</td>\n",
              "    </tr>\n",
              "  </tbody>\n",
              "</table>\n"
            ]
          },
          "metadata": {},
          "execution_count": 43
        }
      ],
      "source": [
        "# wrap metrics training into dataframe\n",
        "metrics_eye = pd.DataFrame(history_eye.history)\n",
        "\n",
        "result_style = metrics_eye.style.highlight_max(axis=0, props='background-color:#90B77D;', subset=['acc','val_acc']).highlight_min(axis=0, props='background-color:#EE6983;', subset=['loss','val_loss'])\n",
        "result_style"
      ]
    },
    {
      "cell_type": "code",
      "execution_count": null,
      "metadata": {
        "colab": {
          "base_uri": "https://localhost:8080/",
          "height": 300
        },
        "id": "1GezS6krNIZu",
        "outputId": "4524326a-2d57-4f14-a835-de783405beaa"
      },
      "outputs": [
        {
          "output_type": "execute_result",
          "data": {
            "text/plain": [
              "<pandas.io.formats.style.Styler at 0x7f5cd9740cd0>"
            ],
            "text/html": [
              "<style type=\"text/css\">\n",
              "#T_17ac8_row3_col0, #T_17ac8_row3_col2 {\n",
              "  background-color: #EE6983;\n",
              "}\n",
              "#T_17ac8_row5_col1, #T_17ac8_row6_col1, #T_17ac8_row7_col1, #T_17ac8_row7_col3 {\n",
              "  background-color: #90B77D;\n",
              "}\n",
              "</style>\n",
              "<table id=\"T_17ac8_\" class=\"dataframe\">\n",
              "  <thead>\n",
              "    <tr>\n",
              "      <th class=\"blank level0\" >&nbsp;</th>\n",
              "      <th class=\"col_heading level0 col0\" >loss</th>\n",
              "      <th class=\"col_heading level0 col1\" >acc</th>\n",
              "      <th class=\"col_heading level0 col2\" >val_loss</th>\n",
              "      <th class=\"col_heading level0 col3\" >val_acc</th>\n",
              "    </tr>\n",
              "  </thead>\n",
              "  <tbody>\n",
              "    <tr>\n",
              "      <th id=\"T_17ac8_level0_row0\" class=\"row_heading level0 row0\" >count</th>\n",
              "      <td id=\"T_17ac8_row0_col0\" class=\"data row0 col0\" >11.000000</td>\n",
              "      <td id=\"T_17ac8_row0_col1\" class=\"data row0 col1\" >11.000000</td>\n",
              "      <td id=\"T_17ac8_row0_col2\" class=\"data row0 col2\" >11.000000</td>\n",
              "      <td id=\"T_17ac8_row0_col3\" class=\"data row0 col3\" >11.000000</td>\n",
              "    </tr>\n",
              "    <tr>\n",
              "      <th id=\"T_17ac8_level0_row1\" class=\"row_heading level0 row1\" >mean</th>\n",
              "      <td id=\"T_17ac8_row1_col0\" class=\"data row1 col0\" >0.169188</td>\n",
              "      <td id=\"T_17ac8_row1_col1\" class=\"data row1 col1\" >0.991155</td>\n",
              "      <td id=\"T_17ac8_row1_col2\" class=\"data row1 col2\" >1.476287</td>\n",
              "      <td id=\"T_17ac8_row1_col3\" class=\"data row1 col3\" >0.635307</td>\n",
              "    </tr>\n",
              "    <tr>\n",
              "      <th id=\"T_17ac8_level0_row2\" class=\"row_heading level0 row2\" >std</th>\n",
              "      <td id=\"T_17ac8_row2_col0\" class=\"data row2 col0\" >0.535550</td>\n",
              "      <td id=\"T_17ac8_row2_col1\" class=\"data row2 col1\" >0.023011</td>\n",
              "      <td id=\"T_17ac8_row2_col2\" class=\"data row2 col2\" >0.934584</td>\n",
              "      <td id=\"T_17ac8_row2_col3\" class=\"data row2 col3\" >0.168947</td>\n",
              "    </tr>\n",
              "    <tr>\n",
              "      <th id=\"T_17ac8_level0_row3\" class=\"row_heading level0 row3\" >min</th>\n",
              "      <td id=\"T_17ac8_row3_col0\" class=\"data row3 col0\" >0.000206</td>\n",
              "      <td id=\"T_17ac8_row3_col1\" class=\"data row3 col1\" >0.922680</td>\n",
              "      <td id=\"T_17ac8_row3_col2\" class=\"data row3 col2\" >0.389037</td>\n",
              "      <td id=\"T_17ac8_row3_col3\" class=\"data row3 col3\" >0.505814</td>\n",
              "    </tr>\n",
              "    <tr>\n",
              "      <th id=\"T_17ac8_level0_row4\" class=\"row_heading level0 row4\" >25%</th>\n",
              "      <td id=\"T_17ac8_row4_col0\" class=\"data row4 col0\" >0.000390</td>\n",
              "      <td id=\"T_17ac8_row4_col1\" class=\"data row4 col1\" >0.996456</td>\n",
              "      <td id=\"T_17ac8_row4_col2\" class=\"data row4 col2\" >0.631833</td>\n",
              "      <td id=\"T_17ac8_row4_col3\" class=\"data row4 col3\" >0.505814</td>\n",
              "    </tr>\n",
              "    <tr>\n",
              "      <th id=\"T_17ac8_level0_row5\" class=\"row_heading level0 row5\" >50%</th>\n",
              "      <td id=\"T_17ac8_row5_col0\" class=\"data row5 col0\" >0.001505</td>\n",
              "      <td id=\"T_17ac8_row5_col1\" class=\"data row5 col1\" >1.000000</td>\n",
              "      <td id=\"T_17ac8_row5_col2\" class=\"data row5 col2\" >1.417651</td>\n",
              "      <td id=\"T_17ac8_row5_col3\" class=\"data row5 col3\" >0.505814</td>\n",
              "    </tr>\n",
              "    <tr>\n",
              "      <th id=\"T_17ac8_level0_row6\" class=\"row_heading level0 row6\" >75%</th>\n",
              "      <td id=\"T_17ac8_row6_col0\" class=\"data row6 col0\" >0.012576</td>\n",
              "      <td id=\"T_17ac8_row6_col1\" class=\"data row6 col1\" >1.000000</td>\n",
              "      <td id=\"T_17ac8_row6_col2\" class=\"data row6 col2\" >2.171387</td>\n",
              "      <td id=\"T_17ac8_row6_col3\" class=\"data row6 col3\" >0.779070</td>\n",
              "    </tr>\n",
              "    <tr>\n",
              "      <th id=\"T_17ac8_level0_row7\" class=\"row_heading level0 row7\" >max</th>\n",
              "      <td id=\"T_17ac8_row7_col0\" class=\"data row7 col0\" >1.783383</td>\n",
              "      <td id=\"T_17ac8_row7_col1\" class=\"data row7 col1\" >1.000000</td>\n",
              "      <td id=\"T_17ac8_row7_col2\" class=\"data row7 col2\" >2.826095</td>\n",
              "      <td id=\"T_17ac8_row7_col3\" class=\"data row7 col3\" >0.906977</td>\n",
              "    </tr>\n",
              "  </tbody>\n",
              "</table>\n"
            ]
          },
          "metadata": {},
          "execution_count": 44
        }
      ],
      "source": [
        "# get statistic information\n",
        "\n",
        "idx = list(metrics_eye.describe().index.get_level_values(0))\n",
        "_ls = lambda x : (idx[1:], x)\n",
        "\n",
        "metrics_eye.describe().style.highlight_max(axis=0, props='background-color:#90B77D;', subset = _ls(['acc','val_acc'])).highlight_min(axis=0, props='background-color:#EE6983;', subset = _ls(['loss','val_loss']))"
      ]
    },
    {
      "cell_type": "code",
      "execution_count": null,
      "metadata": {
        "id": "ChYYonbGM9KB"
      },
      "outputs": [],
      "source": [
        "# save metrics into xlsx\n",
        "result_style.to_excel('metrics_eye.xlsx', engine='openpyxl')"
      ]
    },
    {
      "cell_type": "code",
      "execution_count": null,
      "metadata": {
        "colab": {
          "base_uri": "https://localhost:8080/",
          "height": 337
        },
        "id": "RCvW0wr4NPk1",
        "outputId": "c1a0628e-6c8d-462a-b015-50e360250381"
      },
      "outputs": [
        {
          "output_type": "display_data",
          "data": {
            "text/plain": [
              "<Figure size 1440x360 with 2 Axes>"
            ],
            "image/png": "[encoded data removed]"
          },
          "metadata": {}
        }
      ],
      "source": [
        "# visualize training model evaluation\n",
        "plt.style.use(\"ggplot\")\n",
        "fig, ax = plt.subplots(1, 2, figsize = (20, 5))\n",
        "\n",
        "index = list(range(len(history_eye.history['loss'])))\n",
        "\n",
        "ax[0].plot(history_eye.history['loss'], label = f\"Train\")\n",
        "ax[0].plot(history_eye.history['val_loss'], label = f\"Validation\")\n",
        "ax[0].scatter(index, history_eye.history['loss'])\n",
        "ax[0].scatter(index, history_eye.history['val_loss'])\n",
        "ax[0].legend()\n",
        "ax[0].set_title(\"Loss Visualisation\")\n",
        "\n",
        "ax[1].plot(history_eye.history['acc'], label = f\"Train\")\n",
        "ax[1].plot(history_eye.history['val_acc'], label = f\"Validation\")\n",
        "ax[1].scatter(index, history_eye.history['acc'])\n",
        "ax[1].scatter(index, history_eye.history['val_acc'])\n",
        "ax[1].legend()\n",
        "ax[1].set_title(\"Accuracy Visualisation\")\n",
        "\n",
        "plt.show()"
      ]
    },
    {
      "cell_type": "code",
      "execution_count": null,
      "metadata": {
        "id": "nl83yM4YNP-k"
      },
      "outputs": [],
      "source": [
        "# save model\n",
        "model_eye.save(\"model_cnn_eye.h5\")"
      ]
    },
    {
      "cell_type": "code",
      "execution_count": null,
      "metadata": {
        "colab": {
          "base_uri": "https://localhost:8080/"
        },
        "id": "b_oXZFLvNXMr",
        "outputId": "0b753304-865f-4598-ad8f-4b50673ebbb4"
      },
      "outputs": [
        {
          "output_type": "stream",
          "name": "stdout",
          "text": [
            "6/6 [==============================] - 0s 43ms/step - loss: 0.3890 - acc: 0.9070\n",
            "Validation Accuracy >>> 0.9069767594337463\n",
            "Validation Loss     >>> 0.38903671503067017\n"
          ]
        }
      ],
      "source": [
        "# model evaluation based on evaluate function\n",
        "_loss, _acc = model_eye.evaluate(test_set)\n",
        "print(\"Validation Accuracy >>>\", _acc)\n",
        "print(\"Validation Loss     >>>\", _loss)"
      ]
    },
    {
      "cell_type": "code",
      "source": [
        "# model evaluation based on classification_report and confusion_matrix scoring.\n",
        "metrics_eye = Metrics(model = model_eye, data_generator = test_set)"
      ],
      "metadata": {
        "id": "q-hFo0t_tkR7"
      },
      "execution_count": null,
      "outputs": []
    },
    {
      "cell_type": "code",
      "source": [
        "metrics_eye.generate_class_report()"
      ],
      "metadata": {
        "colab": {
          "base_uri": "https://localhost:8080/"
        },
        "outputId": "1db2fa36-01f3-433d-9f9b-2654db4dae34",
        "id": "_a9Oicf2tkR8"
      },
      "execution_count": null,
      "outputs": [
        {
          "output_type": "stream",
          "name": "stdout",
          "text": [
            "              precision    recall  f1-score   support\n",
            "\n",
            "           0       0.97      1.00      0.99       100\n",
            "           1       1.00      0.96      0.98        72\n",
            "\n",
            "    accuracy                           0.98       172\n",
            "   macro avg       0.99      0.98      0.98       172\n",
            "weighted avg       0.98      0.98      0.98       172\n",
            "\n"
          ]
        }
      ]
    },
    {
      "cell_type": "code",
      "source": [
        "metrics_eye.generate_confusion_matrix()"
      ],
      "metadata": {
        "colab": {
          "base_uri": "https://localhost:8080/",
          "height": 269
        },
        "outputId": "5b09578a-a6c7-40bb-81a0-e53d791ea766",
        "id": "BS0adLnstkR9"
      },
      "execution_count": null,
      "outputs": [
        {
          "output_type": "display_data",
          "data": {
            "text/plain": [
              "<Figure size 432x288 with 2 Axes>"
            ],
            "image/png": "[encoded data removed]"
          },
          "metadata": {}
        }
      ]
    },
    {
      "cell_type": "markdown",
      "metadata": {
        "id": "gm9yWnoTu5GQ"
      },
      "source": [
        "## 2.3. Head Detection (Fatigue / Not)"
      ]
    },
    {
      "cell_type": "code",
      "execution_count": null,
      "metadata": {
        "id": "0m27se_0WO4T",
        "colab": {
          "base_uri": "https://localhost:8080/",
          "height": 183
        },
        "outputId": "119a5976-9a1c-4e9c-ffe8-3a40aff4ecb0"
      },
      "outputs": [
        {
          "output_type": "error",
          "ename": "FileNotFoundError",
          "evalue": "ignored",
          "traceback": [
            "\u001b[0;31m---------------------------------------------------------------------------\u001b[0m",
            "\u001b[0;31mFileNotFoundError\u001b[0m                         Traceback (most recent call last)",
            "\u001b[0;32m<ipython-input-52-96351ffed0cc>\u001b[0m in \u001b[0;36m<module>\u001b[0;34m\u001b[0m\n\u001b[1;32m      1\u001b[0m \u001b[0;31m# change directory\u001b[0m\u001b[0;34m\u001b[0m\u001b[0;34m\u001b[0m\u001b[0;34m\u001b[0m\u001b[0m\n\u001b[0;32m----> 2\u001b[0;31m \u001b[0mos\u001b[0m\u001b[0;34m.\u001b[0m\u001b[0mchdir\u001b[0m\u001b[0;34m(\u001b[0m\u001b[0;34m\"filtered_dataset\"\u001b[0m\u001b[0;34m)\u001b[0m\u001b[0;34m\u001b[0m\u001b[0;34m\u001b[0m\u001b[0m\n\u001b[0m",
            "\u001b[0;31mFileNotFoundError\u001b[0m: [Errno 2] No such file or directory: 'filtered_dataset'"
          ]
        }
      ],
      "source": [
        "# change directory\n",
        "os.chdir(\"filtered_dataset\")"
      ]
    },
    {
      "cell_type": "code",
      "execution_count": null,
      "metadata": {
        "colab": {
          "base_uri": "https://localhost:8080/"
        },
        "id": "aI3-88TXWO4a",
        "outputId": "0f61948c-c2bd-474f-dd97-6b2f9b451b26"
      },
      "outputs": [
        {
          "output_type": "execute_result",
          "data": {
            "text/plain": [
              "['preprocess.py', 'Drowsy', 'Non Drowsy']"
            ]
          },
          "metadata": {},
          "execution_count": 53
        }
      ],
      "source": [
        "# check list directory\n",
        "os.listdir(\"head\")"
      ]
    },
    {
      "cell_type": "code",
      "execution_count": null,
      "metadata": {
        "id": "A4WUSAoht39n"
      },
      "outputs": [],
      "source": [
        "# !unzip \"/content/drive/MyDrive/Dataset/filtered_dataset/head/head.zip\""
      ]
    },
    {
      "cell_type": "code",
      "execution_count": null,
      "metadata": {
        "id": "X6U1nH78WO4a"
      },
      "outputs": [],
      "source": [
        "# define variable\n",
        "DIRECTORY  = \"head\"\n",
        "BATCH_SIZE = 16\n",
        "EPOCHS     = 5"
      ]
    },
    {
      "cell_type": "code",
      "execution_count": null,
      "metadata": {
        "id": "7hhrvEGfWO4a"
      },
      "outputs": [],
      "source": [
        "# define image data generator \n",
        "image_generator = ImageDataGenerator(\n",
        "    validation_split = 0.1,\n",
        "    rescale = 1 / 255,\n",
        ")"
      ]
    },
    {
      "cell_type": "code",
      "execution_count": null,
      "metadata": {
        "colab": {
          "base_uri": "https://localhost:8080/"
        },
        "id": "4uuqa3-lWO4a",
        "outputId": "9fca1b2b-36f1-4cf2-b9cf-3f42d83acbb3"
      },
      "outputs": [
        {
          "output_type": "stream",
          "name": "stdout",
          "text": [
            "Found 1661 images belonging to 2 classes.\n",
            "Found 184 images belonging to 2 classes.\n"
          ]
        }
      ],
      "source": [
        "# apply image generator\n",
        "train_set = image_generator.flow_from_directory( \n",
        "    DIRECTORY,\n",
        "    class_mode = \"categorical\", batch_size = BATCH_SIZE, \n",
        "    subset = \"training\", target_size = (224, 224), \n",
        "    color_mode = \"rgb\"\n",
        ")\n",
        "test_set = image_generator.flow_from_directory( \n",
        "    DIRECTORY, \n",
        "    class_mode = \"categorical\", batch_size = BATCH_SIZE,\n",
        "    subset = \"validation\", target_size = (224, 224), \n",
        "    color_mode = \"rgb\" \n",
        ")"
      ]
    },
    {
      "cell_type": "code",
      "execution_count": null,
      "metadata": {
        "id": "vj0B2YMOWO4a"
      },
      "outputs": [],
      "source": [
        "# create CNN architecture for binary classification\n",
        "\n",
        "def build_model_head():\n",
        "\n",
        "  model = Sequential()\n",
        "\n",
        "  model.add(Conv2D(filters=16, kernel_size=2, padding='same', activation='relu', input_shape=(224,224,3), kernel_initializer='he_uniform'))\n",
        "  model.add(MaxPool2D(pool_size=2))\n",
        "  model.add(BatchNormalization())\n",
        "\n",
        "  model.add(Conv2D(filters=32, kernel_size=2, padding='same', activation='relu', kernel_initializer='he_uniform'))\n",
        "  model.add(MaxPool2D(pool_size=2))\n",
        "  model.add(BatchNormalization())\n",
        "\n",
        "  model.add(Conv2D(filters=32, kernel_size=2, padding='same', activation='relu', kernel_initializer='he_uniform'))\n",
        "  model.add(MaxPool2D(pool_size=2))\n",
        "  model.add(BatchNormalization())\n",
        "\n",
        "  model.add(Flatten())\n",
        "\n",
        "  model.add(Dropout(0.3))\n",
        "  model.add(Dense(64, kernel_initializer = \"he_uniform\", activation = \"relu\"))\n",
        "  model.add(Dense(2, activation = \"softmax\"))\n",
        "\n",
        "  model.compile(optimizer = \"adam\", loss = \"categorical_crossentropy\", metrics = ['acc'])\n",
        "\n",
        "  return model "
      ]
    },
    {
      "cell_type": "code",
      "execution_count": null,
      "metadata": {
        "id": "gdtsu26EWO4a"
      },
      "outputs": [],
      "source": [
        "# inherit model CNN pre-defined above\n",
        "model_head = build_model_head()"
      ]
    },
    {
      "cell_type": "code",
      "execution_count": null,
      "metadata": {
        "colab": {
          "base_uri": "https://localhost:8080/"
        },
        "id": "CNYYxQiKWO4a",
        "outputId": "1e4b3755-684f-4e35-87b7-377a7dce6930"
      },
      "outputs": [
        {
          "output_type": "stream",
          "name": "stdout",
          "text": [
            "Model: \"sequential_2\"\n",
            "_________________________________________________________________\n",
            " Layer (type)                Output Shape              Param #   \n",
            "=================================================================\n",
            " conv2d_8 (Conv2D)           (None, 224, 224, 16)      208       \n",
            "                                                                 \n",
            " max_pooling2d_8 (MaxPooling  (None, 112, 112, 16)     0         \n",
            " 2D)                                                             \n",
            "                                                                 \n",
            " batch_normalization_8 (Batc  (None, 112, 112, 16)     64        \n",
            " hNormalization)                                                 \n",
            "                                                                 \n",
            " conv2d_9 (Conv2D)           (None, 112, 112, 32)      2080      \n",
            "                                                                 \n",
            " max_pooling2d_9 (MaxPooling  (None, 56, 56, 32)       0         \n",
            " 2D)                                                             \n",
            "                                                                 \n",
            " batch_normalization_9 (Batc  (None, 56, 56, 32)       128       \n",
            " hNormalization)                                                 \n",
            "                                                                 \n",
            " conv2d_10 (Conv2D)          (None, 56, 56, 32)        4128      \n",
            "                                                                 \n",
            " max_pooling2d_10 (MaxPoolin  (None, 28, 28, 32)       0         \n",
            " g2D)                                                            \n",
            "                                                                 \n",
            " batch_normalization_10 (Bat  (None, 28, 28, 32)       128       \n",
            " chNormalization)                                                \n",
            "                                                                 \n",
            " flatten_2 (Flatten)         (None, 25088)             0         \n",
            "                                                                 \n",
            " dropout_2 (Dropout)         (None, 25088)             0         \n",
            "                                                                 \n",
            " dense_4 (Dense)             (None, 64)                1605696   \n",
            "                                                                 \n",
            " dense_5 (Dense)             (None, 2)                 130       \n",
            "                                                                 \n",
            "=================================================================\n",
            "Total params: 1,612,562\n",
            "Trainable params: 1,612,402\n",
            "Non-trainable params: 160\n",
            "_________________________________________________________________\n",
            "None\n"
          ]
        }
      ],
      "source": [
        "# overview model architecture \n",
        "print(model_head.summary())"
      ]
    },
    {
      "cell_type": "code",
      "execution_count": null,
      "metadata": {
        "colab": {
          "base_uri": "https://localhost:8080/",
          "height": 1000
        },
        "id": "9BvfUUxMWO4a",
        "outputId": "36ad56b2-81a4-4f55-e881-53e26013216d"
      },
      "outputs": [
        {
          "output_type": "execute_result",
          "data": {
            "image/png": "[encoded data removed]",
            "text/plain": [
              "<IPython.core.display.Image object>"
            ]
          },
          "metadata": {},
          "execution_count": 60
        }
      ],
      "source": [
        "# visualize model architecture\n",
        "plot_model(model_head)"
      ]
    },
    {
      "cell_type": "code",
      "execution_count": null,
      "metadata": {
        "id": "reviF_T6WO4b"
      },
      "outputs": [],
      "source": [
        "# define callbacks to stop iteration\n",
        "class CustomCallbacks(Callback):\n",
        "  def __init__(self, threshold = 0.9):\n",
        "    super(CustomCallbacks, self).__init__() \n",
        "    self.threshold = threshold \n",
        "  def on_epoch_end(self, epoch, logs = None, monitor = \"val_acc\"):\n",
        "    val_acc = logs[monitor]\n",
        "    if val_acc >= self.threshold: \n",
        "      self.model.stop_training = True"
      ]
    },
    {
      "cell_type": "code",
      "execution_count": null,
      "metadata": {
        "colab": {
          "base_uri": "https://localhost:8080/"
        },
        "id": "hCvdvcWzWO4b",
        "outputId": "051ae2ea-b4aa-4396-8a14-7ea716374075"
      },
      "outputs": [
        {
          "output_type": "stream",
          "name": "stdout",
          "text": [
            "Epoch 1/5\n",
            "104/104 [==============================] - 490s 5s/step - loss: 0.2835 - acc: 0.9573 - val_loss: 1.7931 - val_acc: 0.5870\n",
            "Epoch 2/5\n",
            "104/104 [==============================] - 9s 85ms/step - loss: 0.0024 - acc: 0.9994 - val_loss: 0.9214 - val_acc: 0.7011\n",
            "Epoch 3/5\n",
            "104/104 [==============================] - 9s 85ms/step - loss: 0.0018 - acc: 0.9994 - val_loss: 1.1863 - val_acc: 0.6304\n",
            "Epoch 4/5\n",
            "104/104 [==============================] - 9s 85ms/step - loss: 0.0021 - acc: 0.9994 - val_loss: 2.2182 - val_acc: 0.7065\n",
            "Epoch 5/5\n",
            "104/104 [==============================] - 9s 85ms/step - loss: 8.4099e-05 - acc: 1.0000 - val_loss: 2.6044 - val_acc: 0.7120\n"
          ]
        }
      ],
      "source": [
        "# training model\n",
        "history_head = model_head.fit(\n",
        "    train_set, \n",
        "    epochs = EPOCHS, \n",
        "    validation_data = test_set, \n",
        "    verbose = 1,\n",
        "    callbacks = [CustomCallbacks()]\n",
        ")"
      ]
    },
    {
      "cell_type": "code",
      "execution_count": null,
      "metadata": {
        "colab": {
          "base_uri": "https://localhost:8080/",
          "height": 206
        },
        "id": "rDNABW6QWO4b",
        "outputId": "3fd9f68c-d752-444c-d87d-c9b6b7b1e35c"
      },
      "outputs": [
        {
          "output_type": "execute_result",
          "data": {
            "text/plain": [
              "<pandas.io.formats.style.Styler at 0x7f5cd9b9c6d0>"
            ],
            "text/html": [
              "<style type=\"text/css\">\n",
              "#T_6a25b_row1_col2, #T_6a25b_row4_col0 {\n",
              "  background-color: #EE6983;\n",
              "}\n",
              "#T_6a25b_row4_col1, #T_6a25b_row4_col3 {\n",
              "  background-color: #90B77D;\n",
              "}\n",
              "</style>\n",
              "<table id=\"T_6a25b_\" class=\"dataframe\">\n",
              "  <thead>\n",
              "    <tr>\n",
              "      <th class=\"blank level0\" >&nbsp;</th>\n",
              "      <th class=\"col_heading level0 col0\" >loss</th>\n",
              "      <th class=\"col_heading level0 col1\" >acc</th>\n",
              "      <th class=\"col_heading level0 col2\" >val_loss</th>\n",
              "      <th class=\"col_heading level0 col3\" >val_acc</th>\n",
              "    </tr>\n",
              "  </thead>\n",
              "  <tbody>\n",
              "    <tr>\n",
              "      <th id=\"T_6a25b_level0_row0\" class=\"row_heading level0 row0\" >0</th>\n",
              "      <td id=\"T_6a25b_row0_col0\" class=\"data row0 col0\" >0.283550</td>\n",
              "      <td id=\"T_6a25b_row0_col1\" class=\"data row0 col1\" >0.957255</td>\n",
              "      <td id=\"T_6a25b_row0_col2\" class=\"data row0 col2\" >1.793143</td>\n",
              "      <td id=\"T_6a25b_row0_col3\" class=\"data row0 col3\" >0.586957</td>\n",
              "    </tr>\n",
              "    <tr>\n",
              "      <th id=\"T_6a25b_level0_row1\" class=\"row_heading level0 row1\" >1</th>\n",
              "      <td id=\"T_6a25b_row1_col0\" class=\"data row1 col0\" >0.002377</td>\n",
              "      <td id=\"T_6a25b_row1_col1\" class=\"data row1 col1\" >0.999398</td>\n",
              "      <td id=\"T_6a25b_row1_col2\" class=\"data row1 col2\" >0.921432</td>\n",
              "      <td id=\"T_6a25b_row1_col3\" class=\"data row1 col3\" >0.701087</td>\n",
              "    </tr>\n",
              "    <tr>\n",
              "      <th id=\"T_6a25b_level0_row2\" class=\"row_heading level0 row2\" >2</th>\n",
              "      <td id=\"T_6a25b_row2_col0\" class=\"data row2 col0\" >0.001765</td>\n",
              "      <td id=\"T_6a25b_row2_col1\" class=\"data row2 col1\" >0.999398</td>\n",
              "      <td id=\"T_6a25b_row2_col2\" class=\"data row2 col2\" >1.186254</td>\n",
              "      <td id=\"T_6a25b_row2_col3\" class=\"data row2 col3\" >0.630435</td>\n",
              "    </tr>\n",
              "    <tr>\n",
              "      <th id=\"T_6a25b_level0_row3\" class=\"row_heading level0 row3\" >3</th>\n",
              "      <td id=\"T_6a25b_row3_col0\" class=\"data row3 col0\" >0.002081</td>\n",
              "      <td id=\"T_6a25b_row3_col1\" class=\"data row3 col1\" >0.999398</td>\n",
              "      <td id=\"T_6a25b_row3_col2\" class=\"data row3 col2\" >2.218197</td>\n",
              "      <td id=\"T_6a25b_row3_col3\" class=\"data row3 col3\" >0.706522</td>\n",
              "    </tr>\n",
              "    <tr>\n",
              "      <th id=\"T_6a25b_level0_row4\" class=\"row_heading level0 row4\" >4</th>\n",
              "      <td id=\"T_6a25b_row4_col0\" class=\"data row4 col0\" >0.000084</td>\n",
              "      <td id=\"T_6a25b_row4_col1\" class=\"data row4 col1\" >1.000000</td>\n",
              "      <td id=\"T_6a25b_row4_col2\" class=\"data row4 col2\" >2.604431</td>\n",
              "      <td id=\"T_6a25b_row4_col3\" class=\"data row4 col3\" >0.711957</td>\n",
              "    </tr>\n",
              "  </tbody>\n",
              "</table>\n"
            ]
          },
          "metadata": {},
          "execution_count": 63
        }
      ],
      "source": [
        "# wrap metrics training into dataframe\n",
        "metrics_head = pd.DataFrame(history_head.history)\n",
        "\n",
        "result_style = metrics_head.style.highlight_max(axis=0, props='background-color:#90B77D;', subset=['acc','val_acc']).highlight_min(axis=0, props='background-color:#EE6983;', subset=['loss','val_loss'])\n",
        "result_style"
      ]
    },
    {
      "cell_type": "code",
      "execution_count": null,
      "metadata": {
        "colab": {
          "base_uri": "https://localhost:8080/",
          "height": 300
        },
        "id": "Vwz6lZMQWO4b",
        "outputId": "ce9fa5e6-acfb-4186-c6b4-2a11d5e8442f"
      },
      "outputs": [
        {
          "output_type": "execute_result",
          "data": {
            "text/plain": [
              "<pandas.io.formats.style.Styler at 0x7f5cd99e4110>"
            ],
            "text/html": [
              "<style type=\"text/css\">\n",
              "#T_80dd0_row2_col2, #T_80dd0_row3_col0 {\n",
              "  background-color: #EE6983;\n",
              "}\n",
              "#T_80dd0_row7_col1, #T_80dd0_row7_col3 {\n",
              "  background-color: #90B77D;\n",
              "}\n",
              "</style>\n",
              "<table id=\"T_80dd0_\" class=\"dataframe\">\n",
              "  <thead>\n",
              "    <tr>\n",
              "      <th class=\"blank level0\" >&nbsp;</th>\n",
              "      <th class=\"col_heading level0 col0\" >loss</th>\n",
              "      <th class=\"col_heading level0 col1\" >acc</th>\n",
              "      <th class=\"col_heading level0 col2\" >val_loss</th>\n",
              "      <th class=\"col_heading level0 col3\" >val_acc</th>\n",
              "    </tr>\n",
              "  </thead>\n",
              "  <tbody>\n",
              "    <tr>\n",
              "      <th id=\"T_80dd0_level0_row0\" class=\"row_heading level0 row0\" >count</th>\n",
              "      <td id=\"T_80dd0_row0_col0\" class=\"data row0 col0\" >5.000000</td>\n",
              "      <td id=\"T_80dd0_row0_col1\" class=\"data row0 col1\" >5.000000</td>\n",
              "      <td id=\"T_80dd0_row0_col2\" class=\"data row0 col2\" >5.000000</td>\n",
              "      <td id=\"T_80dd0_row0_col3\" class=\"data row0 col3\" >5.000000</td>\n",
              "    </tr>\n",
              "    <tr>\n",
              "      <th id=\"T_80dd0_level0_row1\" class=\"row_heading level0 row1\" >mean</th>\n",
              "      <td id=\"T_80dd0_row1_col0\" class=\"data row1 col0\" >0.057971</td>\n",
              "      <td id=\"T_80dd0_row1_col1\" class=\"data row1 col1\" >0.991090</td>\n",
              "      <td id=\"T_80dd0_row1_col2\" class=\"data row1 col2\" >1.744691</td>\n",
              "      <td id=\"T_80dd0_row1_col3\" class=\"data row1 col3\" >0.667391</td>\n",
              "    </tr>\n",
              "    <tr>\n",
              "      <th id=\"T_80dd0_level0_row2\" class=\"row_heading level0 row2\" >std</th>\n",
              "      <td id=\"T_80dd0_row2_col0\" class=\"data row2 col0\" >0.126105</td>\n",
              "      <td id=\"T_80dd0_row2_col1\" class=\"data row2 col1\" >0.018916</td>\n",
              "      <td id=\"T_80dd0_row2_col2\" class=\"data row2 col2\" >0.699163</td>\n",
              "      <td id=\"T_80dd0_row2_col3\" class=\"data row2 col3\" >0.055875</td>\n",
              "    </tr>\n",
              "    <tr>\n",
              "      <th id=\"T_80dd0_level0_row3\" class=\"row_heading level0 row3\" >min</th>\n",
              "      <td id=\"T_80dd0_row3_col0\" class=\"data row3 col0\" >0.000084</td>\n",
              "      <td id=\"T_80dd0_row3_col1\" class=\"data row3 col1\" >0.957255</td>\n",
              "      <td id=\"T_80dd0_row3_col2\" class=\"data row3 col2\" >0.921432</td>\n",
              "      <td id=\"T_80dd0_row3_col3\" class=\"data row3 col3\" >0.586957</td>\n",
              "    </tr>\n",
              "    <tr>\n",
              "      <th id=\"T_80dd0_level0_row4\" class=\"row_heading level0 row4\" >25%</th>\n",
              "      <td id=\"T_80dd0_row4_col0\" class=\"data row4 col0\" >0.001765</td>\n",
              "      <td id=\"T_80dd0_row4_col1\" class=\"data row4 col1\" >0.999398</td>\n",
              "      <td id=\"T_80dd0_row4_col2\" class=\"data row4 col2\" >1.186254</td>\n",
              "      <td id=\"T_80dd0_row4_col3\" class=\"data row4 col3\" >0.630435</td>\n",
              "    </tr>\n",
              "    <tr>\n",
              "      <th id=\"T_80dd0_level0_row5\" class=\"row_heading level0 row5\" >50%</th>\n",
              "      <td id=\"T_80dd0_row5_col0\" class=\"data row5 col0\" >0.002081</td>\n",
              "      <td id=\"T_80dd0_row5_col1\" class=\"data row5 col1\" >0.999398</td>\n",
              "      <td id=\"T_80dd0_row5_col2\" class=\"data row5 col2\" >1.793143</td>\n",
              "      <td id=\"T_80dd0_row5_col3\" class=\"data row5 col3\" >0.701087</td>\n",
              "    </tr>\n",
              "    <tr>\n",
              "      <th id=\"T_80dd0_level0_row6\" class=\"row_heading level0 row6\" >75%</th>\n",
              "      <td id=\"T_80dd0_row6_col0\" class=\"data row6 col0\" >0.002377</td>\n",
              "      <td id=\"T_80dd0_row6_col1\" class=\"data row6 col1\" >0.999398</td>\n",
              "      <td id=\"T_80dd0_row6_col2\" class=\"data row6 col2\" >2.218197</td>\n",
              "      <td id=\"T_80dd0_row6_col3\" class=\"data row6 col3\" >0.706522</td>\n",
              "    </tr>\n",
              "    <tr>\n",
              "      <th id=\"T_80dd0_level0_row7\" class=\"row_heading level0 row7\" >max</th>\n",
              "      <td id=\"T_80dd0_row7_col0\" class=\"data row7 col0\" >0.283550</td>\n",
              "      <td id=\"T_80dd0_row7_col1\" class=\"data row7 col1\" >1.000000</td>\n",
              "      <td id=\"T_80dd0_row7_col2\" class=\"data row7 col2\" >2.604431</td>\n",
              "      <td id=\"T_80dd0_row7_col3\" class=\"data row7 col3\" >0.711957</td>\n",
              "    </tr>\n",
              "  </tbody>\n",
              "</table>\n"
            ]
          },
          "metadata": {},
          "execution_count": 64
        }
      ],
      "source": [
        "# get statistic information\n",
        "\n",
        "idx = list(metrics_head.describe().index.get_level_values(0))\n",
        "_ls = lambda x : (idx[1:], x)\n",
        "\n",
        "metrics_head.describe().style.highlight_max(axis=0, props='background-color:#90B77D;', subset = _ls(['acc','val_acc'])).highlight_min(axis=0, props='background-color:#EE6983;', subset = _ls(['loss','val_loss']))"
      ]
    },
    {
      "cell_type": "code",
      "execution_count": null,
      "metadata": {
        "id": "1Y5ZyAMcWO4b"
      },
      "outputs": [],
      "source": [
        "# save metrics into xlsx\n",
        "result_style.to_excel('metrics_head.xlsx', engine='openpyxl')"
      ]
    },
    {
      "cell_type": "code",
      "execution_count": null,
      "metadata": {
        "colab": {
          "base_uri": "https://localhost:8080/",
          "height": 337
        },
        "id": "c1xd01rGWO4b",
        "outputId": "bbdcc823-e84f-457e-eb20-1828e67dc3d0"
      },
      "outputs": [
        {
          "output_type": "display_data",
          "data": {
            "text/plain": [
              "<Figure size 1440x360 with 2 Axes>"
            ],
            "image/png": "[encoded data removed]"
          },
          "metadata": {}
        }
      ],
      "source": [
        "# visualize training model evaluation\n",
        "plt.style.use(\"ggplot\")\n",
        "fig, ax = plt.subplots(1, 2, figsize = (20, 5))\n",
        "\n",
        "index = list(range(len(history_head.history['loss'])))\n",
        "\n",
        "ax[0].plot(history_head.history['loss'], label = f\"Train\")\n",
        "ax[0].plot(history_head.history['val_loss'], label = f\"Validation\")\n",
        "ax[0].scatter(index, history_head.history['loss'])\n",
        "ax[0].scatter(index, history_head.history['val_loss'])\n",
        "ax[0].legend()\n",
        "ax[0].set_title(\"Loss Visualisation\")\n",
        "\n",
        "ax[1].plot(history_head.history['acc'], label = f\"Train\")\n",
        "ax[1].plot(history_head.history['val_acc'], label = f\"Validation\")\n",
        "ax[1].scatter(index, history_head.history['acc'])\n",
        "ax[1].scatter(index, history_head.history['val_acc'])\n",
        "ax[1].legend()\n",
        "ax[1].set_title(\"Accuracy Visualisation\")\n",
        "\n",
        "plt.show()"
      ]
    },
    {
      "cell_type": "code",
      "execution_count": null,
      "metadata": {
        "id": "7VTPUlB7WO4b"
      },
      "outputs": [],
      "source": [
        "# save model\n",
        "model_head.save(\"model_cnn_head.h5\")"
      ]
    },
    {
      "cell_type": "code",
      "execution_count": null,
      "metadata": {
        "colab": {
          "base_uri": "https://localhost:8080/"
        },
        "id": "4dnbpbDCWO4b",
        "outputId": "4f9046e6-8af8-4773-ba18-3a2efd244ad5"
      },
      "outputs": [
        {
          "output_type": "stream",
          "name": "stdout",
          "text": [
            "12/12 [==============================] - 1s 73ms/step - loss: 2.6044 - acc: 0.7120\n",
            "Validation Accuracy >>> 0.7119565010070801\n",
            "Validation Loss     >>> 2.604430913925171\n"
          ]
        }
      ],
      "source": [
        "# model evaluation based on classification_report and confusion_matrix scoring.\n",
        "_loss, _acc = model_head.evaluate(test_set)\n",
        "print(\"Validation Accuracy >>>\", _acc)\n",
        "print(\"Validation Loss     >>>\", _loss)"
      ]
    },
    {
      "cell_type": "code",
      "source": [
        "# model evaluation based on classification_report and confusion_matrix scoring.\n",
        "metrics_head = Metrics(model = model_head, data_generator = test_set)"
      ],
      "metadata": {
        "id": "VOXg0PWwtvfM"
      },
      "execution_count": null,
      "outputs": []
    },
    {
      "cell_type": "code",
      "source": [
        "metrics_head.generate_class_report()"
      ],
      "metadata": {
        "colab": {
          "base_uri": "https://localhost:8080/"
        },
        "outputId": "9d9c17c4-4469-4c19-d63b-8f8caf52fa81",
        "id": "OZZpSxE9tvfM"
      },
      "execution_count": null,
      "outputs": [
        {
          "output_type": "stream",
          "name": "stdout",
          "text": [
            "              precision    recall  f1-score   support\n",
            "\n",
            "           0       0.96      1.00      0.98       120\n",
            "           1       1.00      0.92      0.96        64\n",
            "\n",
            "    accuracy                           0.97       184\n",
            "   macro avg       0.98      0.96      0.97       184\n",
            "weighted avg       0.97      0.97      0.97       184\n",
            "\n"
          ]
        }
      ]
    },
    {
      "cell_type": "code",
      "source": [
        "metrics_head.generate_confusion_matrix()"
      ],
      "metadata": {
        "colab": {
          "base_uri": "https://localhost:8080/",
          "height": 269
        },
        "outputId": "0bc6b98f-1c68-4e24-85bc-7a7e1d919d55",
        "id": "fwNIY9fktvfM"
      },
      "execution_count": null,
      "outputs": [
        {
          "output_type": "display_data",
          "data": {
            "text/plain": [
              "<Figure size 432x288 with 2 Axes>"
            ],
            "image/png": "[encoded data removed]"
          },
          "metadata": {}
        }
      ]
    }
  ],
  "metadata": {
    "accelerator": "GPU",
    "colab": {
      "provenance": []
    },
    "gpuClass": "standard",
    "kernelspec": {
      "display_name": "Python 3",
      "name": "python3"
    },
    "language_info": {
      "name": "python"
    }
  },
  "nbformat": 4,
  "nbformat_minor": 0
}